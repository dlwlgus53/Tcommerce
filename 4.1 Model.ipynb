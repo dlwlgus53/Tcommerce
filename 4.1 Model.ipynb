{
 "cells": [
  {
   "cell_type": "code",
   "execution_count": 4,
   "metadata": {},
   "outputs": [],
   "source": [
    "#import torch\n",
    "import pandas as pd\n",
    "import numpy as np"
   ]
  },
  {
   "cell_type": "code",
   "execution_count": 5,
   "metadata": {},
   "outputs": [
    {
     "ename": "FileNotFoundError",
     "evalue": "[Errno 2] File b'data/train_set/3.data_normalize.csv' does not exist: b'data/train_set/3.data_normalize.csv'",
     "output_type": "error",
     "traceback": [
      "\u001b[1;31m---------------------------------------------------------------------------\u001b[0m",
      "\u001b[1;31mFileNotFoundError\u001b[0m                         Traceback (most recent call last)",
      "\u001b[1;32m<ipython-input-5-3e37cf10374a>\u001b[0m in \u001b[0;36m<module>\u001b[1;34m\u001b[0m\n\u001b[0;32m      1\u001b[0m \u001b[1;31m#data_noname = pd.read_csv('data/train_set/3.data_normalize2_noname.csv')\u001b[0m\u001b[1;33m\u001b[0m\u001b[1;33m\u001b[0m\u001b[1;33m\u001b[0m\u001b[0m\n\u001b[1;32m----> 2\u001b[1;33m \u001b[0mdata\u001b[0m \u001b[1;33m=\u001b[0m \u001b[0mpd\u001b[0m\u001b[1;33m.\u001b[0m\u001b[0mread_csv\u001b[0m\u001b[1;33m(\u001b[0m\u001b[1;34m'data/train_set/3.data_normalize.csv'\u001b[0m\u001b[1;33m)\u001b[0m\u001b[1;33m\u001b[0m\u001b[1;33m\u001b[0m\u001b[0m\n\u001b[0m",
      "\u001b[1;32m~\\Anaconda3\\lib\\site-packages\\pandas\\io\\parsers.py\u001b[0m in \u001b[0;36mparser_f\u001b[1;34m(filepath_or_buffer, sep, delimiter, header, names, index_col, usecols, squeeze, prefix, mangle_dupe_cols, dtype, engine, converters, true_values, false_values, skipinitialspace, skiprows, skipfooter, nrows, na_values, keep_default_na, na_filter, verbose, skip_blank_lines, parse_dates, infer_datetime_format, keep_date_col, date_parser, dayfirst, iterator, chunksize, compression, thousands, decimal, lineterminator, quotechar, quoting, doublequote, escapechar, comment, encoding, dialect, tupleize_cols, error_bad_lines, warn_bad_lines, delim_whitespace, low_memory, memory_map, float_precision)\u001b[0m\n\u001b[0;32m    700\u001b[0m                     skip_blank_lines=skip_blank_lines)\n\u001b[0;32m    701\u001b[0m \u001b[1;33m\u001b[0m\u001b[0m\n\u001b[1;32m--> 702\u001b[1;33m         \u001b[1;32mreturn\u001b[0m \u001b[0m_read\u001b[0m\u001b[1;33m(\u001b[0m\u001b[0mfilepath_or_buffer\u001b[0m\u001b[1;33m,\u001b[0m \u001b[0mkwds\u001b[0m\u001b[1;33m)\u001b[0m\u001b[1;33m\u001b[0m\u001b[1;33m\u001b[0m\u001b[0m\n\u001b[0m\u001b[0;32m    703\u001b[0m \u001b[1;33m\u001b[0m\u001b[0m\n\u001b[0;32m    704\u001b[0m     \u001b[0mparser_f\u001b[0m\u001b[1;33m.\u001b[0m\u001b[0m__name__\u001b[0m \u001b[1;33m=\u001b[0m \u001b[0mname\u001b[0m\u001b[1;33m\u001b[0m\u001b[1;33m\u001b[0m\u001b[0m\n",
      "\u001b[1;32m~\\Anaconda3\\lib\\site-packages\\pandas\\io\\parsers.py\u001b[0m in \u001b[0;36m_read\u001b[1;34m(filepath_or_buffer, kwds)\u001b[0m\n\u001b[0;32m    427\u001b[0m \u001b[1;33m\u001b[0m\u001b[0m\n\u001b[0;32m    428\u001b[0m     \u001b[1;31m# Create the parser.\u001b[0m\u001b[1;33m\u001b[0m\u001b[1;33m\u001b[0m\u001b[1;33m\u001b[0m\u001b[0m\n\u001b[1;32m--> 429\u001b[1;33m     \u001b[0mparser\u001b[0m \u001b[1;33m=\u001b[0m \u001b[0mTextFileReader\u001b[0m\u001b[1;33m(\u001b[0m\u001b[0mfilepath_or_buffer\u001b[0m\u001b[1;33m,\u001b[0m \u001b[1;33m**\u001b[0m\u001b[0mkwds\u001b[0m\u001b[1;33m)\u001b[0m\u001b[1;33m\u001b[0m\u001b[1;33m\u001b[0m\u001b[0m\n\u001b[0m\u001b[0;32m    430\u001b[0m \u001b[1;33m\u001b[0m\u001b[0m\n\u001b[0;32m    431\u001b[0m     \u001b[1;32mif\u001b[0m \u001b[0mchunksize\u001b[0m \u001b[1;32mor\u001b[0m \u001b[0miterator\u001b[0m\u001b[1;33m:\u001b[0m\u001b[1;33m\u001b[0m\u001b[1;33m\u001b[0m\u001b[0m\n",
      "\u001b[1;32m~\\Anaconda3\\lib\\site-packages\\pandas\\io\\parsers.py\u001b[0m in \u001b[0;36m__init__\u001b[1;34m(self, f, engine, **kwds)\u001b[0m\n\u001b[0;32m    893\u001b[0m             \u001b[0mself\u001b[0m\u001b[1;33m.\u001b[0m\u001b[0moptions\u001b[0m\u001b[1;33m[\u001b[0m\u001b[1;34m'has_index_names'\u001b[0m\u001b[1;33m]\u001b[0m \u001b[1;33m=\u001b[0m \u001b[0mkwds\u001b[0m\u001b[1;33m[\u001b[0m\u001b[1;34m'has_index_names'\u001b[0m\u001b[1;33m]\u001b[0m\u001b[1;33m\u001b[0m\u001b[1;33m\u001b[0m\u001b[0m\n\u001b[0;32m    894\u001b[0m \u001b[1;33m\u001b[0m\u001b[0m\n\u001b[1;32m--> 895\u001b[1;33m         \u001b[0mself\u001b[0m\u001b[1;33m.\u001b[0m\u001b[0m_make_engine\u001b[0m\u001b[1;33m(\u001b[0m\u001b[0mself\u001b[0m\u001b[1;33m.\u001b[0m\u001b[0mengine\u001b[0m\u001b[1;33m)\u001b[0m\u001b[1;33m\u001b[0m\u001b[1;33m\u001b[0m\u001b[0m\n\u001b[0m\u001b[0;32m    896\u001b[0m \u001b[1;33m\u001b[0m\u001b[0m\n\u001b[0;32m    897\u001b[0m     \u001b[1;32mdef\u001b[0m \u001b[0mclose\u001b[0m\u001b[1;33m(\u001b[0m\u001b[0mself\u001b[0m\u001b[1;33m)\u001b[0m\u001b[1;33m:\u001b[0m\u001b[1;33m\u001b[0m\u001b[1;33m\u001b[0m\u001b[0m\n",
      "\u001b[1;32m~\\Anaconda3\\lib\\site-packages\\pandas\\io\\parsers.py\u001b[0m in \u001b[0;36m_make_engine\u001b[1;34m(self, engine)\u001b[0m\n\u001b[0;32m   1120\u001b[0m     \u001b[1;32mdef\u001b[0m \u001b[0m_make_engine\u001b[0m\u001b[1;33m(\u001b[0m\u001b[0mself\u001b[0m\u001b[1;33m,\u001b[0m \u001b[0mengine\u001b[0m\u001b[1;33m=\u001b[0m\u001b[1;34m'c'\u001b[0m\u001b[1;33m)\u001b[0m\u001b[1;33m:\u001b[0m\u001b[1;33m\u001b[0m\u001b[1;33m\u001b[0m\u001b[0m\n\u001b[0;32m   1121\u001b[0m         \u001b[1;32mif\u001b[0m \u001b[0mengine\u001b[0m \u001b[1;33m==\u001b[0m \u001b[1;34m'c'\u001b[0m\u001b[1;33m:\u001b[0m\u001b[1;33m\u001b[0m\u001b[1;33m\u001b[0m\u001b[0m\n\u001b[1;32m-> 1122\u001b[1;33m             \u001b[0mself\u001b[0m\u001b[1;33m.\u001b[0m\u001b[0m_engine\u001b[0m \u001b[1;33m=\u001b[0m \u001b[0mCParserWrapper\u001b[0m\u001b[1;33m(\u001b[0m\u001b[0mself\u001b[0m\u001b[1;33m.\u001b[0m\u001b[0mf\u001b[0m\u001b[1;33m,\u001b[0m \u001b[1;33m**\u001b[0m\u001b[0mself\u001b[0m\u001b[1;33m.\u001b[0m\u001b[0moptions\u001b[0m\u001b[1;33m)\u001b[0m\u001b[1;33m\u001b[0m\u001b[1;33m\u001b[0m\u001b[0m\n\u001b[0m\u001b[0;32m   1123\u001b[0m         \u001b[1;32melse\u001b[0m\u001b[1;33m:\u001b[0m\u001b[1;33m\u001b[0m\u001b[1;33m\u001b[0m\u001b[0m\n\u001b[0;32m   1124\u001b[0m             \u001b[1;32mif\u001b[0m \u001b[0mengine\u001b[0m \u001b[1;33m==\u001b[0m \u001b[1;34m'python'\u001b[0m\u001b[1;33m:\u001b[0m\u001b[1;33m\u001b[0m\u001b[1;33m\u001b[0m\u001b[0m\n",
      "\u001b[1;32m~\\Anaconda3\\lib\\site-packages\\pandas\\io\\parsers.py\u001b[0m in \u001b[0;36m__init__\u001b[1;34m(self, src, **kwds)\u001b[0m\n\u001b[0;32m   1851\u001b[0m         \u001b[0mkwds\u001b[0m\u001b[1;33m[\u001b[0m\u001b[1;34m'usecols'\u001b[0m\u001b[1;33m]\u001b[0m \u001b[1;33m=\u001b[0m \u001b[0mself\u001b[0m\u001b[1;33m.\u001b[0m\u001b[0musecols\u001b[0m\u001b[1;33m\u001b[0m\u001b[1;33m\u001b[0m\u001b[0m\n\u001b[0;32m   1852\u001b[0m \u001b[1;33m\u001b[0m\u001b[0m\n\u001b[1;32m-> 1853\u001b[1;33m         \u001b[0mself\u001b[0m\u001b[1;33m.\u001b[0m\u001b[0m_reader\u001b[0m \u001b[1;33m=\u001b[0m \u001b[0mparsers\u001b[0m\u001b[1;33m.\u001b[0m\u001b[0mTextReader\u001b[0m\u001b[1;33m(\u001b[0m\u001b[0msrc\u001b[0m\u001b[1;33m,\u001b[0m \u001b[1;33m**\u001b[0m\u001b[0mkwds\u001b[0m\u001b[1;33m)\u001b[0m\u001b[1;33m\u001b[0m\u001b[1;33m\u001b[0m\u001b[0m\n\u001b[0m\u001b[0;32m   1854\u001b[0m         \u001b[0mself\u001b[0m\u001b[1;33m.\u001b[0m\u001b[0munnamed_cols\u001b[0m \u001b[1;33m=\u001b[0m \u001b[0mself\u001b[0m\u001b[1;33m.\u001b[0m\u001b[0m_reader\u001b[0m\u001b[1;33m.\u001b[0m\u001b[0munnamed_cols\u001b[0m\u001b[1;33m\u001b[0m\u001b[1;33m\u001b[0m\u001b[0m\n\u001b[0;32m   1855\u001b[0m \u001b[1;33m\u001b[0m\u001b[0m\n",
      "\u001b[1;32mpandas/_libs/parsers.pyx\u001b[0m in \u001b[0;36mpandas._libs.parsers.TextReader.__cinit__\u001b[1;34m()\u001b[0m\n",
      "\u001b[1;32mpandas/_libs/parsers.pyx\u001b[0m in \u001b[0;36mpandas._libs.parsers.TextReader._setup_parser_source\u001b[1;34m()\u001b[0m\n",
      "\u001b[1;31mFileNotFoundError\u001b[0m: [Errno 2] File b'data/train_set/3.data_normalize.csv' does not exist: b'data/train_set/3.data_normalize.csv'"
     ]
    }
   ],
   "source": [
    "#data_noname = pd.read_csv('data/train_set/3.data_normalize2_noname.csv')\n",
    "data = pd.read_csv('data/train_set/3.data_normalize.csv')\n"
   ]
  },
  {
   "cell_type": "code",
   "execution_count": 10,
   "metadata": {},
   "outputs": [
    {
     "data": {
      "text/plain": [
       "Index(['broadcast_time', 'unit_price', 'off_day', 'hour', 'temperature_seoul',\n",
       "       'rain_seoul', 'humid_seoul', 'snow_seoul', 'temperature_busan',\n",
       "       'rain_busan', 'humid_busan', 'snow_busan', 'pmWarning_seoul',\n",
       "       'pmWarning_busan', 'day_dup', 'week_dup', 'working_time',\n",
       "       'pastAvg_diff', 'handling_amount', 'buy_count', 'product_category_가전',\n",
       "       'product_category_건강기능', 'product_category_농수축',\n",
       "       'product_category_생활용품', 'product_category_속옷', 'product_category_의류',\n",
       "       'product_category_이미용', 'product_category_잡화', 'product_category_주방',\n",
       "       'product_category_침구', 'weekday_1', 'weekday_2', 'weekday_3',\n",
       "       'weekday_4', 'weekday_5', 'weekday_6', 'season_2', 'season_3',\n",
       "       'season_4'],\n",
       "      dtype='object')"
      ]
     },
     "execution_count": 10,
     "metadata": {},
     "output_type": "execute_result"
    }
   ],
   "source": [
    "data.columns"
   ]
  },
  {
   "cell_type": "code",
   "execution_count": 12,
   "metadata": {},
   "outputs": [],
   "source": [
    "x_data = data.drop(columns = ['pastAvg_diff', 'handling_amount', 'buy_count'])\n",
    "y_data = data['buy_count']"
   ]
  },
  {
   "cell_type": "code",
   "execution_count": 13,
   "metadata": {},
   "outputs": [],
   "source": [
    "x_data.loc[:,'off_day'] = x_data.loc[:,'off_day'].astype('float64')\n",
    "x_data.loc[:,'pmWarning_busan']= x_data.loc[:,'pmWarning_busan'].astype('float64')\n",
    "x_data.loc[:,'pmWarning_seoul']= x_data.loc[:,'pmWarning_seoul'].astype('float64')\n",
    "x_data.loc[:,'working_time']= x_data.loc[:,'working_time'].astype('float64')\n"
   ]
  },
  {
   "cell_type": "code",
   "execution_count": 14,
   "metadata": {},
   "outputs": [],
   "source": [
    "from sklearn.model_selection import train_test_split\n",
    "train_x, testvalid_x, train_y, testvalid_y = train_test_split(x_data, y_data, test_size = 0.2, random_state = 1)\n",
    "test_x, valid_x, test_y, valid_y = train_test_split(testvalid_x, testvalid_y, test_size = 0.5, random_state = 1)"
   ]
  },
  {
   "cell_type": "markdown",
   "metadata": {},
   "source": [
    "### 모델 만들기\n",
    "https://greeksharifa.github.io/pytorch/2018/11/10/pytorch-usage-03-How-to-Use-PyTorch/"
   ]
  },
  {
   "cell_type": "code",
   "execution_count": 15,
   "metadata": {},
   "outputs": [],
   "source": [
    "# preprocess, set hyperparameter\n",
    "import argparse\n",
    "import os\n",
    "\n",
    "# load data\n",
    "from torch.utils.data import DataLoader\n",
    "\n",
    "# train\n",
    "from torch import nn\n",
    "import torch.optim as optim\n",
    "from torch.nn import functional as F\n",
    "\n",
    "# visualization\n",
    "import matplotlib.pyplot as plt"
   ]
  },
  {
   "cell_type": "code",
   "execution_count": 19,
   "metadata": {},
   "outputs": [],
   "source": [
    "max_epoch = 10\n",
    "max_patience = 3\n",
    "batch_size = 32\n",
    "input_size = len(train_x.columns)\n",
    "output_size = 1\n",
    "log_interval = 300\n",
    "criterion = nn.MSELoss()\n"
   ]
  },
  {
   "cell_type": "code",
   "execution_count": 51,
   "metadata": {},
   "outputs": [
    {
     "data": {
      "text/plain": [
       "40"
      ]
     },
     "execution_count": 51,
     "metadata": {},
     "output_type": "execute_result"
    }
   ],
   "source": []
  },
  {
   "cell_type": "code",
   "execution_count": 17,
   "metadata": {},
   "outputs": [],
   "source": [
    "import pdb\n",
    "class DataIterator:\n",
    "    def __init__(self, X,Y, batch_size):\n",
    "        self.x = torch.from_numpy(X.values).unsqueeze(dim=1)\n",
    "        self.y = torch.from_numpy((Y.values)).unsqueeze(dim=1) # 10000으로 나눠줌\n",
    "        self.batch_size = batch_size\n",
    "        self.start_index = 0\n",
    "\n",
    "    def __iter__(self):\n",
    "        return self\n",
    "\n",
    "    def __next__(self):\n",
    "        start_index = self.start_index\n",
    "        end_index = start_index + self.batch_size\n",
    "        x_data = self.x[start_index : start_index + self.batch_size]\n",
    "        y_data = self.y[start_index : start_index + self.batch_size]\n",
    "        if(x_data.shape[0] != self.batch_size):  # small frag TODO\n",
    "            raise StopIteration\n",
    "        self.start_index += self.batch_size\n",
    "        return x_data, y_data\n",
    "\n",
    "for x_data, y_data in DataIterator(train_x, train_y, 32): \n",
    "    pass\n"
   ]
  },
  {
   "cell_type": "code",
   "execution_count": 18,
   "metadata": {},
   "outputs": [],
   "source": [
    "import torch.nn as nn\n",
    "import torch.nn.functional as F\n",
    "\n",
    "class DNN(nn.Module):\n",
    "    def __init__(self,input_size, output_size):\n",
    "        super(DNN, self).__init__()\n",
    "        hds1=30\n",
    "        hds2=20\n",
    "        hds3=10\n",
    "        self.input_size = input_size\n",
    "        self.fc1 = nn.Linear(input_size, hds1)\n",
    "        self.fc2 = nn.Linear(hds1, hds2)\n",
    "        self.fc3 = nn.Linear(hds2, hds3)\n",
    "\n",
    "        self.fc4 = nn.Linear(hds3, output_size)\n",
    "        self.ELU =nn.ELU()\n",
    "\n",
    "    def forward(self, x):\n",
    "        h1 = self.ELU(self.fc1(x.float().view(-1, self.input_size)))\n",
    "        h2 = self.ELU(self.fc2(h1))\n",
    "        h3 = self.ELU(self.fc3(h2))\n",
    "        h4 = self.fc4(h3)\n",
    "        return h4\n"
   ]
  },
  {
   "cell_type": "code",
   "execution_count": 22,
   "metadata": {
    "scrolled": true
   },
   "outputs": [
    {
     "name": "stdout",
     "output_type": "stream",
     "text": [
      "=====validation=====\n",
      "epoch : 1\n",
      "loss 84985\n",
      "find new best\n",
      "=====validation=====\n",
      "epoch : 2\n",
      "loss 71936\n",
      "find new best\n",
      "=====validation=====\n",
      "epoch : 3\n",
      "loss 66239\n",
      "find new best\n",
      "=====validation=====\n",
      "epoch : 4\n",
      "loss 63060\n",
      "find new best\n",
      "=====validation=====\n",
      "epoch : 5\n",
      "loss 60792\n",
      "find new best\n",
      "=====validation=====\n",
      "epoch : 6\n",
      "loss 58902\n",
      "find new best\n",
      "=====validation=====\n",
      "epoch : 7\n",
      "loss 57280\n",
      "find new best\n",
      "=====validation=====\n",
      "epoch : 8\n",
      "loss 55988\n",
      "find new best\n",
      "=====validation=====\n",
      "epoch : 9\n",
      "loss 54855\n",
      "find new best\n",
      "=====validation=====\n",
      "epoch : 10\n",
      "loss 53767\n",
      "find new best\n",
      "total loss : 63354\n",
      "tensor([[   4.9984],\n",
      "        [   4.9848],\n",
      "        [ 240.0407],\n",
      "        [  46.5052],\n",
      "        [   4.9984],\n",
      "        [   4.9882],\n",
      "        [ 357.4581],\n",
      "        [  98.6473],\n",
      "        [ 452.8056],\n",
      "        [ 526.9936],\n",
      "        [ 740.2357],\n",
      "        [ 354.6707],\n",
      "        [ 141.1878],\n",
      "        [ 542.1920],\n",
      "        [1306.3689],\n",
      "        [ 420.2158],\n",
      "        [ 151.6719],\n",
      "        [   4.9982],\n",
      "        [   4.9984],\n",
      "        [ 293.4368],\n",
      "        [ 388.5552],\n",
      "        [  36.1828],\n",
      "        [   4.9984],\n",
      "        [ 253.0362],\n",
      "        [   5.7672],\n",
      "        [ 121.0967],\n",
      "        [1037.0851],\n",
      "        [   4.9984],\n",
      "        [   4.9960],\n",
      "        [ 338.3905],\n",
      "        [ 580.2351],\n",
      "        [1119.2925]], grad_fn=<AddmmBackward>)\n"
     ]
    }
   ],
   "source": [
    "from torch import nn\n",
    "model = DNN(input_size, output_size)\n",
    "optimizer = optim.Adam(model.parameters())\n",
    "\n",
    "# train\n",
    "idx = 0\n",
    "best_loss =0\n",
    "for epoch in range(max_epoch):\n",
    "    loss_sum =0\n",
    "    idx = 0\n",
    "    model.train()\n",
    "    for x_data, y_data in DataIterator(train_x, train_y, batch_size): \n",
    "        idx +=1\n",
    "        optimizer.zero_grad()\n",
    "        output = model(x_data.float())\n",
    "        loss = criterion(output, y_data.float())\n",
    "        loss_sum += loss\n",
    "        loss.backward()\n",
    "        optimizer.step()\n",
    "        if(idx % log_interval == 0):\n",
    "            #print(\"epoch : \" + str(epoch) + \" loss : \" + str(int(loss_sum/(log_interval))))\n",
    "            pass\n",
    "    \n",
    "    model.eval()\n",
    "    loss_sum =0\n",
    "    print(\"=====validation=====\")\n",
    "    idx =0\n",
    "    for x_data, y_data in DataIterator(valid_x, valid_y, batch_size): \n",
    "        idx +=1\n",
    "        output = model(x_data.float())\n",
    "        loss = criterion(output, y_data.float())\n",
    "        loss_sum += loss\n",
    "    print(\"epoch : \"  + str(epoch+1))\n",
    "    print(\"loss \" + str(int(loss_sum/idx)))\n",
    "\n",
    "        \n",
    "    if(best_loss == 0 or best_loss>loss_sum):\n",
    "        print(\"find new best\")\n",
    "        best_loss = loss_sum\n",
    "        patience =0\n",
    "    else:\n",
    "        patience +=1\n",
    "    if(patience >max_patience):\n",
    "        print(\"early stopping\")\n",
    "        break\n",
    "\n",
    "\n",
    "# test\n",
    "model.eval()\n",
    "loss_sum =0\n",
    "abs_loss =0 \n",
    "idx =0 \n",
    "outputs = []\n",
    "ys = []\n",
    "for x_data, y_data in DataIterator(test_x, test_y, batch_size): \n",
    "    idx +=1\n",
    "    output = model(x_data.float())\n",
    "    outputs.append(output)\n",
    "    ys.append(y_data)\n",
    "    loss = criterion(output, y_data.float())\n",
    "    loss_sum += loss\n",
    "print('total loss : '+str(int(loss_sum/idx) ))\n",
    "print(output)\n",
    "\n",
    "    \n",
    "\n"
   ]
  },
  {
   "cell_type": "markdown",
   "metadata": {},
   "source": [
    "#### 기록 : 1번파일 -> loss 12,438,049,128,448 early stopping total loss : 12,910,166,278,144\n",
    "#### 기록 : 2번파일 1000으로 나누었을때 중간에러 -> 12,906,635,000(다시 1000 곱해줌)\n",
    "#### 기록 : 2번파일 10000으로 나누었을때 중간에러 -> 2867223(다시 1000 곱해줌)\n",
    "=====validation=====\n",
    "loss 5705414\n",
    "find new best\n",
    "=====validation=====\n",
    "loss 3490570\n",
    "find new best\n",
    "=====validation=====\n",
    "loss 3225345\n",
    "find new best\n",
    "=====validation=====\n",
    "loss 3023757\n",
    "find new best\n",
    "=====validation=====\n",
    "loss 2915842\n",
    "find new best\n",
    "=====validation=====\n",
    "loss 2854653\n",
    "find new best\n",
    "\n",
    "\n",
    "#### -> mse 식 수정\n",
    "0909 : buy_count로 y  수정"
   ]
  },
  {
   "cell_type": "code",
   "execution_count": 23,
   "metadata": {},
   "outputs": [],
   "source": [
    "new_output = []\n",
    "new_y = []\n",
    "for i in range(len(outputs)):\n",
    "    new_output.append(outputs[i].detach().numpy().squeeze())\n",
    "    new_y.append(ys[i].numpy().squeeze())\n",
    "\n",
    "new_output = np.array(new_output).reshape(-1)\n",
    "new_y = np.array(new_y).reshape(-1)"
   ]
  },
  {
   "cell_type": "code",
   "execution_count": 24,
   "metadata": {},
   "outputs": [],
   "source": [
    "temp = pd.DataFrame(index = range(0,len(new_output)),data = {'output' : new_output, 'y' : new_y})\n",
    "temp = temp.reset_index()"
   ]
  },
  {
   "cell_type": "code",
   "execution_count": 25,
   "metadata": {},
   "outputs": [],
   "source": [
    "temp['diff'] = temp['y'] - temp['output']\n",
    "temp['diff_abs'] = abs(temp['diff'])"
   ]
  },
  {
   "cell_type": "code",
   "execution_count": 26,
   "metadata": {},
   "outputs": [
    {
     "data": {
      "text/plain": [
       "<matplotlib.axes._subplots.AxesSubplot at 0x1b68e13fc88>"
      ]
     },
     "execution_count": 26,
     "metadata": {},
     "output_type": "execute_result"
    },
    {
     "data": {
      "image/png": "[encoded data removed]",
      "text/plain": [
       "<Figure size 432x288 with 1 Axes>"
      ]
     },
     "metadata": {
      "needs_background": "light"
     },
     "output_type": "display_data"
    }
   ],
   "source": [
    "import seaborn as sns\n",
    "sns.lineplot(data = temp,x = \"index\", y = 'diff_abs')"
   ]
  },
  {
   "cell_type": "code",
   "execution_count": 28,
   "metadata": {},
   "outputs": [
    {
     "data": {
      "text/plain": [
       "71.46627519056898"
      ]
     },
     "execution_count": 28,
     "metadata": {},
     "output_type": "execute_result"
    }
   ],
   "source": [
    "temp['diff_abs'].median()"
   ]
  },
  {
   "cell_type": "code",
   "execution_count": 29,
   "metadata": {},
   "outputs": [
    {
     "data": {
      "text/plain": [
       "{'whiskers': [<matplotlib.lines.Line2D at 0x1b68e29bbc8>,\n",
       "  <matplotlib.lines.Line2D at 0x1b68e29bc88>],\n",
       " 'caps': [<matplotlib.lines.Line2D at 0x1b68e29fb48>,\n",
       "  <matplotlib.lines.Line2D at 0x1b68e29fc08>],\n",
       " 'boxes': [<matplotlib.lines.Line2D at 0x1b68e291708>],\n",
       " 'medians': [<matplotlib.lines.Line2D at 0x1b68e2a4ac8>],\n",
       " 'fliers': [<matplotlib.lines.Line2D at 0x1b68e2a4a48>],\n",
       " 'means': []}"
      ]
     },
     "execution_count": 29,
     "metadata": {},
     "output_type": "execute_result"
    },
    {
     "data": {
      "image/png": "[encoded data removed]",
      "text/plain": [
       "<Figure size 432x288 with 1 Axes>"
      ]
     },
     "metadata": {
      "needs_background": "light"
     },
     "output_type": "display_data"
    }
   ],
   "source": [
    "import matplotlib.pyplot as plt\n",
    "%matplotlib inline\n",
    "\n",
    "plt.boxplot(temp['diff_abs'])"
   ]
  }
 ],
 "metadata": {
  "kernelspec": {
   "display_name": "Python 3",
   "language": "python",
   "name": "python3"
  },
  "language_info": {
   "codemirror_mode": {
    "name": "ipython",
    "version": 3
   },
   "file_extension": ".py",
   "mimetype": "text/x-python",
   "name": "python",
   "nbconvert_exporter": "python",
   "pygments_lexer": "ipython3",
   "version": "3.7.3"
  }
 },
 "nbformat": 4,
 "nbformat_minor": 4
}
