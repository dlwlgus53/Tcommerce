{
 "cells": [
  {
   "cell_type": "markdown",
   "metadata": {},
   "source": [
    "# 4. DNN model 생성\n",
    "- 비 선형적인 관계를 잘 표현할 수 있는 DNN모델 사용"
   ]
  },
  {
   "cell_type": "code",
   "execution_count": 4,
   "metadata": {},
   "outputs": [],
   "source": [
    "#import torch\n",
    "import pandas as pd\n",
    "import numpy as np\n",
    "import seaborn as sns"
   ]
  },
  {
   "cell_type": "code",
   "execution_count": 5,
   "metadata": {},
   "outputs": [
    {
     "ename": "FileNotFoundError",
     "evalue": "[Errno 2] File b'data/train_set/3.data_normalize.csv' does not exist: b'data/train_set/3.data_normalize.csv'",
     "output_type": "error",
     "traceback": [
      "\u001b[1;31m---------------------------------------------------------------------------\u001b[0m",
      "\u001b[1;31mFileNotFoundError\u001b[0m                         Traceback (most recent call last)",
      "\u001b[1;32m<ipython-input-5-3e37cf10374a>\u001b[0m in \u001b[0;36m<module>\u001b[1;34m\u001b[0m\n\u001b[0;32m      1\u001b[0m \u001b[1;31m#data_noname = pd.read_csv('data/train_set/3.data_normalize2_noname.csv')\u001b[0m\u001b[1;33m\u001b[0m\u001b[1;33m\u001b[0m\u001b[1;33m\u001b[0m\u001b[0m\n\u001b[1;32m----> 2\u001b[1;33m \u001b[0mdata\u001b[0m \u001b[1;33m=\u001b[0m \u001b[0mpd\u001b[0m\u001b[1;33m.\u001b[0m\u001b[0mread_csv\u001b[0m\u001b[1;33m(\u001b[0m\u001b[1;34m'data/train_set/3.data_normalize.csv'\u001b[0m\u001b[1;33m)\u001b[0m\u001b[1;33m\u001b[0m\u001b[1;33m\u001b[0m\u001b[0m\n\u001b[0m",
      "\u001b[1;32m~\\Anaconda3\\lib\\site-packages\\pandas\\io\\parsers.py\u001b[0m in \u001b[0;36mparser_f\u001b[1;34m(filepath_or_buffer, sep, delimiter, header, names, index_col, usecols, squeeze, prefix, mangle_dupe_cols, dtype, engine, converters, true_values, false_values, skipinitialspace, skiprows, skipfooter, nrows, na_values, keep_default_na, na_filter, verbose, skip_blank_lines, parse_dates, infer_datetime_format, keep_date_col, date_parser, dayfirst, iterator, chunksize, compression, thousands, decimal, lineterminator, quotechar, quoting, doublequote, escapechar, comment, encoding, dialect, tupleize_cols, error_bad_lines, warn_bad_lines, delim_whitespace, low_memory, memory_map, float_precision)\u001b[0m\n\u001b[0;32m    700\u001b[0m                     skip_blank_lines=skip_blank_lines)\n\u001b[0;32m    701\u001b[0m \u001b[1;33m\u001b[0m\u001b[0m\n\u001b[1;32m--> 702\u001b[1;33m         \u001b[1;32mreturn\u001b[0m \u001b[0m_read\u001b[0m\u001b[1;33m(\u001b[0m\u001b[0mfilepath_or_buffer\u001b[0m\u001b[1;33m,\u001b[0m \u001b[0mkwds\u001b[0m\u001b[1;33m)\u001b[0m\u001b[1;33m\u001b[0m\u001b[1;33m\u001b[0m\u001b[0m\n\u001b[0m\u001b[0;32m    703\u001b[0m \u001b[1;33m\u001b[0m\u001b[0m\n\u001b[0;32m    704\u001b[0m     \u001b[0mparser_f\u001b[0m\u001b[1;33m.\u001b[0m\u001b[0m__name__\u001b[0m \u001b[1;33m=\u001b[0m \u001b[0mname\u001b[0m\u001b[1;33m\u001b[0m\u001b[1;33m\u001b[0m\u001b[0m\n",
      "\u001b[1;32m~\\Anaconda3\\lib\\site-packages\\pandas\\io\\parsers.py\u001b[0m in \u001b[0;36m_read\u001b[1;34m(filepath_or_buffer, kwds)\u001b[0m\n\u001b[0;32m    427\u001b[0m \u001b[1;33m\u001b[0m\u001b[0m\n\u001b[0;32m    428\u001b[0m     \u001b[1;31m# Create the parser.\u001b[0m\u001b[1;33m\u001b[0m\u001b[1;33m\u001b[0m\u001b[1;33m\u001b[0m\u001b[0m\n\u001b[1;32m--> 429\u001b[1;33m     \u001b[0mparser\u001b[0m \u001b[1;33m=\u001b[0m \u001b[0mTextFileReader\u001b[0m\u001b[1;33m(\u001b[0m\u001b[0mfilepath_or_buffer\u001b[0m\u001b[1;33m,\u001b[0m \u001b[1;33m**\u001b[0m\u001b[0mkwds\u001b[0m\u001b[1;33m)\u001b[0m\u001b[1;33m\u001b[0m\u001b[1;33m\u001b[0m\u001b[0m\n\u001b[0m\u001b[0;32m    430\u001b[0m \u001b[1;33m\u001b[0m\u001b[0m\n\u001b[0;32m    431\u001b[0m     \u001b[1;32mif\u001b[0m \u001b[0mchunksize\u001b[0m \u001b[1;32mor\u001b[0m \u001b[0miterator\u001b[0m\u001b[1;33m:\u001b[0m\u001b[1;33m\u001b[0m\u001b[1;33m\u001b[0m\u001b[0m\n",
      "\u001b[1;32m~\\Anaconda3\\lib\\site-packages\\pandas\\io\\parsers.py\u001b[0m in \u001b[0;36m__init__\u001b[1;34m(self, f, engine, **kwds)\u001b[0m\n\u001b[0;32m    893\u001b[0m             \u001b[0mself\u001b[0m\u001b[1;33m.\u001b[0m\u001b[0moptions\u001b[0m\u001b[1;33m[\u001b[0m\u001b[1;34m'has_index_names'\u001b[0m\u001b[1;33m]\u001b[0m \u001b[1;33m=\u001b[0m \u001b[0mkwds\u001b[0m\u001b[1;33m[\u001b[0m\u001b[1;34m'has_index_names'\u001b[0m\u001b[1;33m]\u001b[0m\u001b[1;33m\u001b[0m\u001b[1;33m\u001b[0m\u001b[0m\n\u001b[0;32m    894\u001b[0m \u001b[1;33m\u001b[0m\u001b[0m\n\u001b[1;32m--> 895\u001b[1;33m         \u001b[0mself\u001b[0m\u001b[1;33m.\u001b[0m\u001b[0m_make_engine\u001b[0m\u001b[1;33m(\u001b[0m\u001b[0mself\u001b[0m\u001b[1;33m.\u001b[0m\u001b[0mengine\u001b[0m\u001b[1;33m)\u001b[0m\u001b[1;33m\u001b[0m\u001b[1;33m\u001b[0m\u001b[0m\n\u001b[0m\u001b[0;32m    896\u001b[0m \u001b[1;33m\u001b[0m\u001b[0m\n\u001b[0;32m    897\u001b[0m     \u001b[1;32mdef\u001b[0m \u001b[0mclose\u001b[0m\u001b[1;33m(\u001b[0m\u001b[0mself\u001b[0m\u001b[1;33m)\u001b[0m\u001b[1;33m:\u001b[0m\u001b[1;33m\u001b[0m\u001b[1;33m\u001b[0m\u001b[0m\n",
      "\u001b[1;32m~\\Anaconda3\\lib\\site-packages\\pandas\\io\\parsers.py\u001b[0m in \u001b[0;36m_make_engine\u001b[1;34m(self, engine)\u001b[0m\n\u001b[0;32m   1120\u001b[0m     \u001b[1;32mdef\u001b[0m \u001b[0m_make_engine\u001b[0m\u001b[1;33m(\u001b[0m\u001b[0mself\u001b[0m\u001b[1;33m,\u001b[0m \u001b[0mengine\u001b[0m\u001b[1;33m=\u001b[0m\u001b[1;34m'c'\u001b[0m\u001b[1;33m)\u001b[0m\u001b[1;33m:\u001b[0m\u001b[1;33m\u001b[0m\u001b[1;33m\u001b[0m\u001b[0m\n\u001b[0;32m   1121\u001b[0m         \u001b[1;32mif\u001b[0m \u001b[0mengine\u001b[0m \u001b[1;33m==\u001b[0m \u001b[1;34m'c'\u001b[0m\u001b[1;33m:\u001b[0m\u001b[1;33m\u001b[0m\u001b[1;33m\u001b[0m\u001b[0m\n\u001b[1;32m-> 1122\u001b[1;33m             \u001b[0mself\u001b[0m\u001b[1;33m.\u001b[0m\u001b[0m_engine\u001b[0m \u001b[1;33m=\u001b[0m \u001b[0mCParserWrapper\u001b[0m\u001b[1;33m(\u001b[0m\u001b[0mself\u001b[0m\u001b[1;33m.\u001b[0m\u001b[0mf\u001b[0m\u001b[1;33m,\u001b[0m \u001b[1;33m**\u001b[0m\u001b[0mself\u001b[0m\u001b[1;33m.\u001b[0m\u001b[0moptions\u001b[0m\u001b[1;33m)\u001b[0m\u001b[1;33m\u001b[0m\u001b[1;33m\u001b[0m\u001b[0m\n\u001b[0m\u001b[0;32m   1123\u001b[0m         \u001b[1;32melse\u001b[0m\u001b[1;33m:\u001b[0m\u001b[1;33m\u001b[0m\u001b[1;33m\u001b[0m\u001b[0m\n\u001b[0;32m   1124\u001b[0m             \u001b[1;32mif\u001b[0m \u001b[0mengine\u001b[0m \u001b[1;33m==\u001b[0m \u001b[1;34m'python'\u001b[0m\u001b[1;33m:\u001b[0m\u001b[1;33m\u001b[0m\u001b[1;33m\u001b[0m\u001b[0m\n",
      "\u001b[1;32m~\\Anaconda3\\lib\\site-packages\\pandas\\io\\parsers.py\u001b[0m in \u001b[0;36m__init__\u001b[1;34m(self, src, **kwds)\u001b[0m\n\u001b[0;32m   1851\u001b[0m         \u001b[0mkwds\u001b[0m\u001b[1;33m[\u001b[0m\u001b[1;34m'usecols'\u001b[0m\u001b[1;33m]\u001b[0m \u001b[1;33m=\u001b[0m \u001b[0mself\u001b[0m\u001b[1;33m.\u001b[0m\u001b[0musecols\u001b[0m\u001b[1;33m\u001b[0m\u001b[1;33m\u001b[0m\u001b[0m\n\u001b[0;32m   1852\u001b[0m \u001b[1;33m\u001b[0m\u001b[0m\n\u001b[1;32m-> 1853\u001b[1;33m         \u001b[0mself\u001b[0m\u001b[1;33m.\u001b[0m\u001b[0m_reader\u001b[0m \u001b[1;33m=\u001b[0m \u001b[0mparsers\u001b[0m\u001b[1;33m.\u001b[0m\u001b[0mTextReader\u001b[0m\u001b[1;33m(\u001b[0m\u001b[0msrc\u001b[0m\u001b[1;33m,\u001b[0m \u001b[1;33m**\u001b[0m\u001b[0mkwds\u001b[0m\u001b[1;33m)\u001b[0m\u001b[1;33m\u001b[0m\u001b[1;33m\u001b[0m\u001b[0m\n\u001b[0m\u001b[0;32m   1854\u001b[0m         \u001b[0mself\u001b[0m\u001b[1;33m.\u001b[0m\u001b[0munnamed_cols\u001b[0m \u001b[1;33m=\u001b[0m \u001b[0mself\u001b[0m\u001b[1;33m.\u001b[0m\u001b[0m_reader\u001b[0m\u001b[1;33m.\u001b[0m\u001b[0munnamed_cols\u001b[0m\u001b[1;33m\u001b[0m\u001b[1;33m\u001b[0m\u001b[0m\n\u001b[0;32m   1855\u001b[0m \u001b[1;33m\u001b[0m\u001b[0m\n",
      "\u001b[1;32mpandas/_libs/parsers.pyx\u001b[0m in \u001b[0;36mpandas._libs.parsers.TextReader.__cinit__\u001b[1;34m()\u001b[0m\n",
      "\u001b[1;32mpandas/_libs/parsers.pyx\u001b[0m in \u001b[0;36mpandas._libs.parsers.TextReader._setup_parser_source\u001b[1;34m()\u001b[0m\n",
      "\u001b[1;31mFileNotFoundError\u001b[0m: [Errno 2] File b'data/train_set/3.data_normalize.csv' does not exist: b'data/train_set/3.data_normalize.csv'"
     ]
    }
   ],
   "source": [
    "#data_noname = pd.read_csv('data/train_set/3.data_normalize2_noname.csv')\n",
    "#data = pd.read_csv('data/train_set/3.data_normalize_merged.csv')\n",
    "# data = pd.read_csv('temp2_imputation_after.csv', index_col = 0)\n",
    "data = pd.read_csv('data/train_set/3.data_normalize2.csv')\n",
    "data.loc[1]\n",
    "len(data)\n",
    "plt.boxplot(data['buy_count'].dropna())"
   ]
  },
  {
   "cell_type": "code",
   "execution_count": 329,
   "metadata": {},
   "outputs": [],
   "source": [
    "train_len = int(len(data['buy_count'].dropna()))\n",
    "outlier = data.sort_values(\"buy_count\",ascending= False).index[:int(train_len*0.1)]"
   ]
  },
  {
   "cell_type": "code",
   "execution_count": 330,
   "metadata": {},
   "outputs": [],
   "source": [
    "data = data.drop(index = outlier).reset_index(drop = True)"
   ]
  },
  {
   "cell_type": "code",
   "execution_count": 331,
   "metadata": {},
   "outputs": [
    {
     "data": {
      "text/plain": [
       "32660"
      ]
     },
     "execution_count": 331,
     "metadata": {},
     "output_type": "execute_result"
    }
   ],
   "source": [
    "len(data)"
   ]
  },
  {
   "cell_type": "code",
   "execution_count": 308,
   "metadata": {},
   "outputs": [
    {
     "data": {
      "text/plain": [
       "{'whiskers': [<matplotlib.lines.Line2D at 0x24d3951f708>,\n",
       "  <matplotlib.lines.Line2D at 0x24d3951fc88>],\n",
       " 'caps': [<matplotlib.lines.Line2D at 0x24d3951fd88>,\n",
       "  <matplotlib.lines.Line2D at 0x24d39525788>],\n",
       " 'boxes': [<matplotlib.lines.Line2D at 0x24d39517f48>],\n",
       " 'medians': [<matplotlib.lines.Line2D at 0x24d39525d08>],\n",
       " 'fliers': [<matplotlib.lines.Line2D at 0x24d39525e08>],\n",
       " 'means': []}"
      ]
     },
     "execution_count": 308,
     "metadata": {},
     "output_type": "execute_result"
    },
    {
     "data": {
      "image/png": "[encoded data removed]",
      "text/plain": [
       "<Figure size 432x288 with 1 Axes>"
      ]
     },
     "metadata": {
      "needs_background": "light"
     },
     "output_type": "display_data"
    }
   ],
   "source": [
    "plt.boxplot(data['buy_count'].dropna())"
   ]
  },
  {
   "cell_type": "code",
   "execution_count": 332,
   "metadata": {},
   "outputs": [],
   "source": [
    "#x_data = data.drop(columns = ['buyer_count_CaAvgdiff','pastAvg_diff', 'handling_amount', 'buy_count'])\n",
    "# x_data = data.drop(columns = ['max_watching','avg_watching','buy_count','buyer_count_CaAvgdiff','pastBuyer_count_diff','merged_diff'])\n",
    "x_data = data.drop(columns = ['diff','buy_count','unit_price','pastBuyer_count_mean_org'])\n",
    "y_data = data[['diff','type']]"
   ]
  },
  {
   "cell_type": "code",
   "execution_count": 333,
   "metadata": {},
   "outputs": [],
   "source": [
    "x_data.loc[:,'off_day'] = x_data.loc[:,'off_day'].astype('float64')\n",
    "x_data.loc[:,'pmWarning_busan']= x_data.loc[:,'pmWarning_busan'].astype('float64')\n",
    "x_data.loc[:,'pmWarning_seoul']= x_data.loc[:,'pmWarning_seoul'].astype('float64')\n",
    "x_data.loc[:,'working_time']= x_data.loc[:,'working_time'].astype('float64')\n"
   ]
  },
  {
   "cell_type": "code",
   "execution_count": 334,
   "metadata": {},
   "outputs": [],
   "source": [
    "# from sklearn.model_selection import train_test_split\n",
    "# train_x, testvalid_x, train_y, testvalid_y = train_test_split(x_data, y_data, test_size = 0.2, random_state = 1)\n",
    "# test_x, valid_x, test_y, valid_y = train_test_split(testvalid_x, testvalid_y, test_size = 0.5, random_state = 1)\n",
    "# 29770\n",
    "# 32477\n",
    "train_x = x_data.loc[x_data.type == 'train'].drop(columns = 'type').loc[0:int(len(x_data)*0.8)]\n",
    "valid_x = x_data.loc[x_data.type == 'train'].drop(columns = 'type').loc[int(len(x_data)*0.8):]\n",
    "test_x =x_data.loc[x_data.type == 'test'].drop(columns = 'type')\n",
    "\n",
    "train_y= y_data.loc[y_data.type == 'train'].drop(columns = 'type').loc[0:int(len(y_data)*0.8)]\n",
    "valid_y = y_data.loc[x_data.type == 'train'].drop(columns = 'type').loc[int(len(y_data)*0.8):]\n",
    "\n",
    "test_y =y_data.loc[y_data.type == 'test'].drop(columns = 'type')"
   ]
  },
  {
   "cell_type": "code",
   "execution_count": 296,
   "metadata": {},
   "outputs": [
    {
     "data": {
      "text/html": [
       "<div>\n",
       "<style scoped>\n",
       "    .dataframe tbody tr th:only-of-type {\n",
       "        vertical-align: middle;\n",
       "    }\n",
       "\n",
       "    .dataframe tbody tr th {\n",
       "        vertical-align: top;\n",
       "    }\n",
       "\n",
       "    .dataframe thead th {\n",
       "        text-align: right;\n",
       "    }\n",
       "</style>\n",
       "<table border=\"1\" class=\"dataframe\">\n",
       "  <thead>\n",
       "    <tr style=\"text-align: right;\">\n",
       "      <th></th>\n",
       "      <th>broadcast_time</th>\n",
       "      <th>off_day</th>\n",
       "      <th>hour</th>\n",
       "      <th>temperature_seoul</th>\n",
       "      <th>rain_seoul</th>\n",
       "      <th>humid_seoul</th>\n",
       "      <th>snow_seoul</th>\n",
       "      <th>temperature_busan</th>\n",
       "      <th>rain_busan</th>\n",
       "      <th>humid_busan</th>\n",
       "      <th>...</th>\n",
       "      <th>weekday_5</th>\n",
       "      <th>weekday_6</th>\n",
       "      <th>season_2</th>\n",
       "      <th>season_3</th>\n",
       "      <th>season_4</th>\n",
       "      <th>watching_level_rain_hour_max_Clusters_8_1</th>\n",
       "      <th>watching_level_rain_hour_max_Clusters_8_3</th>\n",
       "      <th>watching_level_rain_hour_max_Clusters_8_5</th>\n",
       "      <th>watching_level_rain_hour_max_Clusters_8_6</th>\n",
       "      <th>watching_level_rain_hour_max_Clusters_8_7</th>\n",
       "    </tr>\n",
       "  </thead>\n",
       "  <tbody>\n",
       "    <tr>\n",
       "      <th>30190</th>\n",
       "      <td>-0.100297</td>\n",
       "      <td>0.0</td>\n",
       "      <td>-2.157722</td>\n",
       "      <td>-0.943301</td>\n",
       "      <td>-0.128389</td>\n",
       "      <td>-1.131689</td>\n",
       "      <td>-0.061639</td>\n",
       "      <td>-0.515484</td>\n",
       "      <td>-0.15745</td>\n",
       "      <td>-0.427793</td>\n",
       "      <td>...</td>\n",
       "      <td>0</td>\n",
       "      <td>0</td>\n",
       "      <td>0</td>\n",
       "      <td>0</td>\n",
       "      <td>1</td>\n",
       "      <td>0</td>\n",
       "      <td>0</td>\n",
       "      <td>0</td>\n",
       "      <td>1</td>\n",
       "      <td>0</td>\n",
       "    </tr>\n",
       "    <tr>\n",
       "      <th>30191</th>\n",
       "      <td>-0.100297</td>\n",
       "      <td>0.0</td>\n",
       "      <td>-2.157722</td>\n",
       "      <td>-0.943301</td>\n",
       "      <td>-0.128389</td>\n",
       "      <td>-1.131689</td>\n",
       "      <td>-0.061639</td>\n",
       "      <td>-0.515484</td>\n",
       "      <td>-0.15745</td>\n",
       "      <td>-0.427793</td>\n",
       "      <td>...</td>\n",
       "      <td>0</td>\n",
       "      <td>0</td>\n",
       "      <td>0</td>\n",
       "      <td>0</td>\n",
       "      <td>1</td>\n",
       "      <td>0</td>\n",
       "      <td>0</td>\n",
       "      <td>0</td>\n",
       "      <td>1</td>\n",
       "      <td>0</td>\n",
       "    </tr>\n",
       "    <tr>\n",
       "      <th>30192</th>\n",
       "      <td>-0.100297</td>\n",
       "      <td>0.0</td>\n",
       "      <td>-2.157722</td>\n",
       "      <td>-0.943301</td>\n",
       "      <td>-0.128389</td>\n",
       "      <td>-1.131689</td>\n",
       "      <td>-0.061639</td>\n",
       "      <td>-0.515484</td>\n",
       "      <td>-0.15745</td>\n",
       "      <td>-0.427793</td>\n",
       "      <td>...</td>\n",
       "      <td>0</td>\n",
       "      <td>0</td>\n",
       "      <td>0</td>\n",
       "      <td>0</td>\n",
       "      <td>1</td>\n",
       "      <td>0</td>\n",
       "      <td>0</td>\n",
       "      <td>0</td>\n",
       "      <td>1</td>\n",
       "      <td>0</td>\n",
       "    </tr>\n",
       "    <tr>\n",
       "      <th>30193</th>\n",
       "      <td>-0.100297</td>\n",
       "      <td>0.0</td>\n",
       "      <td>-2.157722</td>\n",
       "      <td>-0.943301</td>\n",
       "      <td>-0.128389</td>\n",
       "      <td>-1.131689</td>\n",
       "      <td>-0.061639</td>\n",
       "      <td>-0.515484</td>\n",
       "      <td>-0.15745</td>\n",
       "      <td>-0.427793</td>\n",
       "      <td>...</td>\n",
       "      <td>0</td>\n",
       "      <td>0</td>\n",
       "      <td>0</td>\n",
       "      <td>0</td>\n",
       "      <td>1</td>\n",
       "      <td>0</td>\n",
       "      <td>0</td>\n",
       "      <td>0</td>\n",
       "      <td>1</td>\n",
       "      <td>0</td>\n",
       "    </tr>\n",
       "    <tr>\n",
       "      <th>30194</th>\n",
       "      <td>-0.100297</td>\n",
       "      <td>0.0</td>\n",
       "      <td>-2.157722</td>\n",
       "      <td>-0.943301</td>\n",
       "      <td>-0.128389</td>\n",
       "      <td>-1.131689</td>\n",
       "      <td>-0.061639</td>\n",
       "      <td>-0.515484</td>\n",
       "      <td>-0.15745</td>\n",
       "      <td>-0.427793</td>\n",
       "      <td>...</td>\n",
       "      <td>0</td>\n",
       "      <td>0</td>\n",
       "      <td>0</td>\n",
       "      <td>0</td>\n",
       "      <td>1</td>\n",
       "      <td>0</td>\n",
       "      <td>0</td>\n",
       "      <td>0</td>\n",
       "      <td>1</td>\n",
       "      <td>0</td>\n",
       "    </tr>\n",
       "    <tr>\n",
       "      <th>...</th>\n",
       "      <td>...</td>\n",
       "      <td>...</td>\n",
       "      <td>...</td>\n",
       "      <td>...</td>\n",
       "      <td>...</td>\n",
       "      <td>...</td>\n",
       "      <td>...</td>\n",
       "      <td>...</td>\n",
       "      <td>...</td>\n",
       "      <td>...</td>\n",
       "      <td>...</td>\n",
       "      <td>...</td>\n",
       "      <td>...</td>\n",
       "      <td>...</td>\n",
       "      <td>...</td>\n",
       "      <td>...</td>\n",
       "      <td>...</td>\n",
       "      <td>...</td>\n",
       "      <td>...</td>\n",
       "      <td>...</td>\n",
       "      <td>...</td>\n",
       "    </tr>\n",
       "    <tr>\n",
       "      <th>35017</th>\n",
       "      <td>-0.100297</td>\n",
       "      <td>0.0</td>\n",
       "      <td>1.359335</td>\n",
       "      <td>-2.131713</td>\n",
       "      <td>-0.128389</td>\n",
       "      <td>-0.531606</td>\n",
       "      <td>-0.061639</td>\n",
       "      <td>-2.457594</td>\n",
       "      <td>-0.15745</td>\n",
       "      <td>-1.849172</td>\n",
       "      <td>...</td>\n",
       "      <td>0</td>\n",
       "      <td>0</td>\n",
       "      <td>0</td>\n",
       "      <td>0</td>\n",
       "      <td>0</td>\n",
       "      <td>0</td>\n",
       "      <td>0</td>\n",
       "      <td>0</td>\n",
       "      <td>0</td>\n",
       "      <td>0</td>\n",
       "    </tr>\n",
       "    <tr>\n",
       "      <th>35018</th>\n",
       "      <td>-0.100297</td>\n",
       "      <td>0.0</td>\n",
       "      <td>1.359335</td>\n",
       "      <td>-2.131713</td>\n",
       "      <td>-0.128389</td>\n",
       "      <td>-0.531606</td>\n",
       "      <td>-0.061639</td>\n",
       "      <td>-2.457594</td>\n",
       "      <td>-0.15745</td>\n",
       "      <td>-1.849172</td>\n",
       "      <td>...</td>\n",
       "      <td>0</td>\n",
       "      <td>0</td>\n",
       "      <td>0</td>\n",
       "      <td>0</td>\n",
       "      <td>0</td>\n",
       "      <td>0</td>\n",
       "      <td>0</td>\n",
       "      <td>0</td>\n",
       "      <td>0</td>\n",
       "      <td>0</td>\n",
       "    </tr>\n",
       "    <tr>\n",
       "      <th>35019</th>\n",
       "      <td>-0.100297</td>\n",
       "      <td>0.0</td>\n",
       "      <td>1.359335</td>\n",
       "      <td>-2.131713</td>\n",
       "      <td>-0.128389</td>\n",
       "      <td>-0.531606</td>\n",
       "      <td>-0.061639</td>\n",
       "      <td>-2.457594</td>\n",
       "      <td>-0.15745</td>\n",
       "      <td>-1.849172</td>\n",
       "      <td>...</td>\n",
       "      <td>0</td>\n",
       "      <td>0</td>\n",
       "      <td>0</td>\n",
       "      <td>0</td>\n",
       "      <td>0</td>\n",
       "      <td>0</td>\n",
       "      <td>0</td>\n",
       "      <td>0</td>\n",
       "      <td>0</td>\n",
       "      <td>0</td>\n",
       "    </tr>\n",
       "    <tr>\n",
       "      <th>35020</th>\n",
       "      <td>-0.100297</td>\n",
       "      <td>0.0</td>\n",
       "      <td>1.359335</td>\n",
       "      <td>-2.131713</td>\n",
       "      <td>-0.128389</td>\n",
       "      <td>-0.531606</td>\n",
       "      <td>-0.061639</td>\n",
       "      <td>-2.457594</td>\n",
       "      <td>-0.15745</td>\n",
       "      <td>-1.849172</td>\n",
       "      <td>...</td>\n",
       "      <td>0</td>\n",
       "      <td>0</td>\n",
       "      <td>0</td>\n",
       "      <td>0</td>\n",
       "      <td>0</td>\n",
       "      <td>0</td>\n",
       "      <td>0</td>\n",
       "      <td>0</td>\n",
       "      <td>0</td>\n",
       "      <td>0</td>\n",
       "    </tr>\n",
       "    <tr>\n",
       "      <th>35021</th>\n",
       "      <td>-0.100297</td>\n",
       "      <td>0.0</td>\n",
       "      <td>1.359335</td>\n",
       "      <td>-2.131713</td>\n",
       "      <td>-0.128389</td>\n",
       "      <td>-0.531606</td>\n",
       "      <td>-0.061639</td>\n",
       "      <td>-2.457594</td>\n",
       "      <td>-0.15745</td>\n",
       "      <td>-1.849172</td>\n",
       "      <td>...</td>\n",
       "      <td>0</td>\n",
       "      <td>0</td>\n",
       "      <td>0</td>\n",
       "      <td>0</td>\n",
       "      <td>0</td>\n",
       "      <td>0</td>\n",
       "      <td>0</td>\n",
       "      <td>0</td>\n",
       "      <td>0</td>\n",
       "      <td>0</td>\n",
       "    </tr>\n",
       "  </tbody>\n",
       "</table>\n",
       "<p>4832 rows × 43 columns</p>\n",
       "</div>"
      ],
      "text/plain": [
       "       broadcast_time  off_day      hour  temperature_seoul  rain_seoul  \\\n",
       "30190       -0.100297      0.0 -2.157722          -0.943301   -0.128389   \n",
       "30191       -0.100297      0.0 -2.157722          -0.943301   -0.128389   \n",
       "30192       -0.100297      0.0 -2.157722          -0.943301   -0.128389   \n",
       "30193       -0.100297      0.0 -2.157722          -0.943301   -0.128389   \n",
       "30194       -0.100297      0.0 -2.157722          -0.943301   -0.128389   \n",
       "...               ...      ...       ...                ...         ...   \n",
       "35017       -0.100297      0.0  1.359335          -2.131713   -0.128389   \n",
       "35018       -0.100297      0.0  1.359335          -2.131713   -0.128389   \n",
       "35019       -0.100297      0.0  1.359335          -2.131713   -0.128389   \n",
       "35020       -0.100297      0.0  1.359335          -2.131713   -0.128389   \n",
       "35021       -0.100297      0.0  1.359335          -2.131713   -0.128389   \n",
       "\n",
       "       humid_seoul  snow_seoul  temperature_busan  rain_busan  humid_busan  \\\n",
       "30190    -1.131689   -0.061639          -0.515484    -0.15745    -0.427793   \n",
       "30191    -1.131689   -0.061639          -0.515484    -0.15745    -0.427793   \n",
       "30192    -1.131689   -0.061639          -0.515484    -0.15745    -0.427793   \n",
       "30193    -1.131689   -0.061639          -0.515484    -0.15745    -0.427793   \n",
       "30194    -1.131689   -0.061639          -0.515484    -0.15745    -0.427793   \n",
       "...            ...         ...                ...         ...          ...   \n",
       "35017    -0.531606   -0.061639          -2.457594    -0.15745    -1.849172   \n",
       "35018    -0.531606   -0.061639          -2.457594    -0.15745    -1.849172   \n",
       "35019    -0.531606   -0.061639          -2.457594    -0.15745    -1.849172   \n",
       "35020    -0.531606   -0.061639          -2.457594    -0.15745    -1.849172   \n",
       "35021    -0.531606   -0.061639          -2.457594    -0.15745    -1.849172   \n",
       "\n",
       "       ...  weekday_5  weekday_6  season_2  season_3  season_4  \\\n",
       "30190  ...          0          0         0         0         1   \n",
       "30191  ...          0          0         0         0         1   \n",
       "30192  ...          0          0         0         0         1   \n",
       "30193  ...          0          0         0         0         1   \n",
       "30194  ...          0          0         0         0         1   \n",
       "...    ...        ...        ...       ...       ...       ...   \n",
       "35017  ...          0          0         0         0         0   \n",
       "35018  ...          0          0         0         0         0   \n",
       "35019  ...          0          0         0         0         0   \n",
       "35020  ...          0          0         0         0         0   \n",
       "35021  ...          0          0         0         0         0   \n",
       "\n",
       "       watching_level_rain_hour_max_Clusters_8_1  \\\n",
       "30190                                          0   \n",
       "30191                                          0   \n",
       "30192                                          0   \n",
       "30193                                          0   \n",
       "30194                                          0   \n",
       "...                                          ...   \n",
       "35017                                          0   \n",
       "35018                                          0   \n",
       "35019                                          0   \n",
       "35020                                          0   \n",
       "35021                                          0   \n",
       "\n",
       "       watching_level_rain_hour_max_Clusters_8_3  \\\n",
       "30190                                          0   \n",
       "30191                                          0   \n",
       "30192                                          0   \n",
       "30193                                          0   \n",
       "30194                                          0   \n",
       "...                                          ...   \n",
       "35017                                          0   \n",
       "35018                                          0   \n",
       "35019                                          0   \n",
       "35020                                          0   \n",
       "35021                                          0   \n",
       "\n",
       "       watching_level_rain_hour_max_Clusters_8_5  \\\n",
       "30190                                          0   \n",
       "30191                                          0   \n",
       "30192                                          0   \n",
       "30193                                          0   \n",
       "30194                                          0   \n",
       "...                                          ...   \n",
       "35017                                          0   \n",
       "35018                                          0   \n",
       "35019                                          0   \n",
       "35020                                          0   \n",
       "35021                                          0   \n",
       "\n",
       "       watching_level_rain_hour_max_Clusters_8_6  \\\n",
       "30190                                          1   \n",
       "30191                                          1   \n",
       "30192                                          1   \n",
       "30193                                          1   \n",
       "30194                                          1   \n",
       "...                                          ...   \n",
       "35017                                          0   \n",
       "35018                                          0   \n",
       "35019                                          0   \n",
       "35020                                          0   \n",
       "35021                                          0   \n",
       "\n",
       "       watching_level_rain_hour_max_Clusters_8_7  \n",
       "30190                                          0  \n",
       "30191                                          0  \n",
       "30192                                          0  \n",
       "30193                                          0  \n",
       "30194                                          0  \n",
       "...                                          ...  \n",
       "35017                                          0  \n",
       "35018                                          0  \n",
       "35019                                          0  \n",
       "35020                                          0  \n",
       "35021                                          0  \n",
       "\n",
       "[4832 rows x 43 columns]"
      ]
     },
     "execution_count": 296,
     "metadata": {},
     "output_type": "execute_result"
    }
   ],
   "source": [
    "valid_x"
   ]
  },
  {
   "cell_type": "markdown",
   "metadata": {},
   "source": [
    "### 모델 만들기\n",
    "https://greeksharifa.github.io/pytorch/2018/11/10/pytorch-usage-03-How-to-Use-PyTorch/"
   ]
  },
  {
   "cell_type": "code",
   "execution_count": 335,
   "metadata": {},
   "outputs": [],
   "source": [
    "# preprocess, set hyperparameter\n",
    "import argparse\n",
    "import os\n",
    "\n",
    "# load data\n",
    "from torch.utils.data import DataLoader\n",
    "\n",
    "# train\n",
    "from torch import nn\n",
    "import torch.optim as optim\n",
    "from torch.nn import functional as F\n",
    "\n",
    "# visualization\n",
    "import matplotlib.pyplot as plt"
   ]
  },
  {
   "cell_type": "code",
   "execution_count": 336,
   "metadata": {},
   "outputs": [],
   "source": [
    "max_epoch = 100\n",
    "max_patience = 3\n",
    "batch_size = 32\n",
    "input_size = len(train_x.columns)\n",
    "output_size = 1\n",
    "log_interval = 300\n",
    "criterion = nn.MSELoss()\n"
   ]
  },
  {
   "cell_type": "code",
   "execution_count": 314,
   "metadata": {},
   "outputs": [
    {
     "data": {
      "text/plain": [
       "broadcast_time                               0\n",
       "off_day                                      0\n",
       "hour                                         0\n",
       "temperature_seoul                            0\n",
       "rain_seoul                                   0\n",
       "humid_seoul                                  0\n",
       "snow_seoul                                   0\n",
       "temperature_busan                            0\n",
       "rain_busan                                   0\n",
       "humid_busan                                  0\n",
       "snow_busan                                   0\n",
       "pmWarning_seoul                              0\n",
       "pmWarning_busan                              0\n",
       "day_dup                                      0\n",
       "week_dup                                     0\n",
       "working_time                                 0\n",
       "pastBuyer_count_mean                         0\n",
       "unit_price_class                             0\n",
       "type                                         0\n",
       "watching_level                               0\n",
       "product_category_가전                          0\n",
       "product_category_건강기능                        0\n",
       "product_category_농수축                         0\n",
       "product_category_생활용품                        0\n",
       "product_category_속옷                          0\n",
       "product_category_의류                          0\n",
       "product_category_이미용                         0\n",
       "product_category_잡화                          0\n",
       "product_category_주방                          0\n",
       "product_category_침구                          0\n",
       "weekday_1                                    0\n",
       "weekday_2                                    0\n",
       "weekday_3                                    0\n",
       "weekday_4                                    0\n",
       "weekday_5                                    0\n",
       "weekday_6                                    0\n",
       "season_2                                     0\n",
       "season_3                                     0\n",
       "season_4                                     0\n",
       "watching_level_rain_hour_max_Clusters_8_1    0\n",
       "watching_level_rain_hour_max_Clusters_8_3    0\n",
       "watching_level_rain_hour_max_Clusters_8_5    0\n",
       "watching_level_rain_hour_max_Clusters_8_6    0\n",
       "watching_level_rain_hour_max_Clusters_8_7    0\n",
       "dtype: int64"
      ]
     },
     "execution_count": 314,
     "metadata": {},
     "output_type": "execute_result"
    }
   ],
   "source": [
    "x_data.isnull().sum()"
   ]
  },
  {
   "cell_type": "code",
   "execution_count": 337,
   "metadata": {},
   "outputs": [],
   "source": [
    "import pdb\n",
    "class DataIterator:\n",
    "    def __init__(self, X,Y, batch_size):\n",
    "        self.x = torch.from_numpy(X.values).unsqueeze(dim=1)\n",
    "        self.y = torch.from_numpy((Y.values)).unsqueeze(dim=1) # 10000으로 나눠줌\n",
    "        self.batch_size = batch_size\n",
    "        self.start_index = 0\n",
    "        self.touch_end = False \n",
    "\n",
    "    def __iter__(self):\n",
    "        return self\n",
    "\n",
    "    def __next__(self):\n",
    "        if(self.touch_end):\n",
    "            raise StopIteration\n",
    "        start_index = self.start_index\n",
    "        end_index = start_index + self.batch_size\n",
    "        x_data = self.x[start_index : start_index + self.batch_size]\n",
    "        y_data = self.y[start_index : start_index + self.batch_size]\n",
    "        if(x_data.shape[0] != self.batch_size):  # small frag TODO\n",
    "            x_data  = torch.cat((x_data, self.x[0:self.batch_size - x_data.shape[0]]),0)\n",
    "            y_data = torch.cat((y_data, self.y[0:self.batch_size - y_data.shape[0]]),0)\n",
    "            self.touch_end = True\n",
    "            \n",
    "        self.start_index += self.batch_size\n",
    "        return x_data, y_data.squeeze(2)\n",
    "\n",
    "for x_data, y_data in DataIterator(train_x, train_y, 32): \n",
    "#     pdb.set_trace()\n",
    "    pass\n"
   ]
  },
  {
   "cell_type": "code",
   "execution_count": 338,
   "metadata": {},
   "outputs": [],
   "source": [
    "import torch.nn as nn\n",
    "import torch.nn.functional as F\n",
    "\n",
    "class DNN(nn.Module):\n",
    "    def __init__(self,input_size, output_size):\n",
    "        super(DNN, self).__init__()\n",
    "        hds1=30\n",
    "        hds2=20\n",
    "        hds3=10\n",
    "        self.input_size = input_size\n",
    "        self.fc1 = nn.Linear(input_size, hds1)\n",
    "        self.fc2 = nn.Linear(hds1, hds2)\n",
    "        self.fc3 = nn.Linear(hds2, hds3)\n",
    "\n",
    "        self.fc4 = nn.Linear(hds3, output_size)\n",
    "        self.ELU =nn.ELU()\n",
    "        self.ReLU =nn.ReLU()\n",
    "\n",
    "\n",
    "    def forward(self, x):\n",
    "        h1 = self.ELU(self.fc1(x.float().view(-1, self.input_size)))\n",
    "        h2 = self.ELU(self.fc2(h1))\n",
    "        h3 = self.ELU(self.fc3(h2))\n",
    "        h4 = self.ReLU(self.fc4(h3))\n",
    "        return h4\n"
   ]
  },
  {
   "cell_type": "code",
   "execution_count": 339,
   "metadata": {
    "scrolled": true
   },
   "outputs": [
    {
     "name": "stdout",
     "output_type": "stream",
     "text": [
      "=====validation=====\n",
      "epoch : 1\n",
      "loss tensor(0.4685, grad_fn=<DivBackward0>)\n",
      "find new best\n",
      "=====validation=====\n",
      "epoch : 2\n",
      "loss tensor(0.4476, grad_fn=<DivBackward0>)\n",
      "find new best\n",
      "=====validation=====\n",
      "epoch : 3\n",
      "loss tensor(0.4452, grad_fn=<DivBackward0>)\n",
      "find new best\n",
      "=====validation=====\n",
      "epoch : 4\n",
      "loss tensor(0.4416, grad_fn=<DivBackward0>)\n",
      "find new best\n",
      "=====validation=====\n",
      "epoch : 5\n",
      "loss tensor(0.4370, grad_fn=<DivBackward0>)\n",
      "find new best\n",
      "=====validation=====\n",
      "epoch : 6\n",
      "loss tensor(0.4328, grad_fn=<DivBackward0>)\n",
      "find new best\n",
      "=====validation=====\n",
      "epoch : 7\n",
      "loss tensor(0.4303, grad_fn=<DivBackward0>)\n",
      "find new best\n",
      "=====validation=====\n",
      "epoch : 8\n",
      "loss tensor(0.4292, grad_fn=<DivBackward0>)\n",
      "find new best\n",
      "=====validation=====\n",
      "epoch : 9\n",
      "loss tensor(0.4286, grad_fn=<DivBackward0>)\n",
      "find new best\n",
      "=====validation=====\n",
      "epoch : 10\n",
      "loss tensor(0.4285, grad_fn=<DivBackward0>)\n",
      "find new best\n",
      "=====validation=====\n",
      "epoch : 11\n",
      "loss tensor(0.4290, grad_fn=<DivBackward0>)\n",
      "=====validation=====\n",
      "epoch : 12\n",
      "loss tensor(0.4298, grad_fn=<DivBackward0>)\n",
      "=====validation=====\n",
      "epoch : 13\n",
      "loss tensor(0.4252, grad_fn=<DivBackward0>)\n",
      "find new best\n",
      "=====validation=====\n",
      "epoch : 14\n",
      "loss tensor(0.4265, grad_fn=<DivBackward0>)\n",
      "=====validation=====\n",
      "epoch : 15\n",
      "loss tensor(0.4275, grad_fn=<DivBackward0>)\n",
      "=====validation=====\n",
      "epoch : 16\n",
      "loss tensor(0.4289, grad_fn=<DivBackward0>)\n",
      "=====validation=====\n",
      "epoch : 17\n",
      "loss tensor(0.4304, grad_fn=<DivBackward0>)\n",
      "early stopping\n",
      "tensor([[0.4327],\n",
      "        [1.0224],\n",
      "        [1.0438],\n",
      "        [1.5232],\n",
      "        [1.5122],\n",
      "        [0.5137],\n",
      "        [0.6635],\n",
      "        [0.6733],\n",
      "        [0.3417],\n",
      "        [0.3417],\n",
      "        [0.3615],\n",
      "        [0.9925],\n",
      "        [0.9670],\n",
      "        [0.9670],\n",
      "        [1.4755],\n",
      "        [1.4882],\n",
      "        [1.4755],\n",
      "        [1.2489],\n",
      "        [1.2440],\n",
      "        [1.2440],\n",
      "        [1.0048],\n",
      "        [1.0128],\n",
      "        [1.0048],\n",
      "        [1.1780],\n",
      "        [1.1846],\n",
      "        [1.1780],\n",
      "        [0.2994],\n",
      "        [0.6714],\n",
      "        [0.3574],\n",
      "        [0.9467],\n",
      "        [1.0233],\n",
      "        [0.3987]], grad_fn=<ReluBackward0>)\n"
     ]
    }
   ],
   "source": [
    "from torch import nn\n",
    "model = DNN(input_size, output_size)\n",
    "optimizer = optim.Adam(model.parameters(),lr = 0.001)\n",
    "\n",
    "# train\n",
    "idx = 0\n",
    "best_loss =0\n",
    "losses = []\n",
    "for epoch in range(max_epoch):\n",
    "    loss_sum =0\n",
    "    idx = 0\n",
    "    model.train()\n",
    "    for x_data, y_data in DataIterator(train_x, train_y, batch_size): \n",
    "        idx +=1\n",
    "        optimizer.zero_grad()\n",
    "        output = model(x_data.float())\n",
    "        loss = criterion(output, y_data.float())\n",
    "        loss_sum += loss\n",
    "        loss.backward()\n",
    "        optimizer.step()\n",
    "        if(idx % log_interval == 0):\n",
    "            #print(\"epoch : \" + str(epoch) + \" loss : \" + str(int(loss_sum/(log_interval))))\n",
    "            pass\n",
    "    \n",
    "    model.eval()\n",
    "    loss_sum =0\n",
    "    \n",
    "    print(\"=====validation=====\")\n",
    "    idx =0\n",
    "    for x_data, y_data in DataIterator(valid_x, valid_y, batch_size): \n",
    "        idx +=1\n",
    "        output = model(x_data.float())\n",
    "        loss = criterion(output, y_data.float())\n",
    "        loss_sum += loss\n",
    "    print(\"epoch : \"  + str(epoch+1))\n",
    "    print(\"loss \" + str((loss_sum/idx)))\n",
    "    losses.append(loss_sum/idx)\n",
    "    \n",
    "\n",
    "    if(best_loss == 0 or best_loss>loss_sum):\n",
    "        print(\"find new best\")\n",
    "        best_loss = loss_sum\n",
    "        patience =0\n",
    "    else:\n",
    "        patience +=1\n",
    "    if(patience >max_patience):\n",
    "        print(\"early stopping\")\n",
    "        break\n",
    "\n",
    "\n",
    "# test\n",
    "model.eval()\n",
    "loss_sum =0\n",
    "abs_loss =0 \n",
    "idx =0 \n",
    "outputs = []\n",
    "ys = []\n",
    "\n",
    "for x_data, y_data in DataIterator(test_x, test_y, batch_size): \n",
    "    idx +=1\n",
    "    output = model(x_data.float())\n",
    "    outputs.append(output)\n",
    "    ys.append(y_data)\n",
    "# to get a final solution\n",
    "#     loss = criterion(output, y_data.float())\n",
    "#     loss_sum += loss\n",
    "# print('total loss : '+str((loss_sum/idx) ))\n",
    "print(output)"
   ]
  },
  {
   "cell_type": "code",
   "execution_count": 340,
   "metadata": {},
   "outputs": [
    {
     "data": {
      "text/plain": [
       "<matplotlib.axes._subplots.AxesSubplot at 0x24d37d00848>"
      ]
     },
     "execution_count": 340,
     "metadata": {},
     "output_type": "execute_result"
    },
    {
     "data": {
      "image/png": "[encoded data removed]",
      "text/plain": [
       "<Figure size 432x288 with 1 Axes>"
      ]
     },
     "metadata": {
      "needs_background": "light"
     },
     "output_type": "display_data"
    }
   ],
   "source": [
    "x = range(1,len(losses)+1)\n",
    "sns.lineplot(x =x, y = list(map(float,losses)))\n"
   ]
  },
  {
   "cell_type": "code",
   "execution_count": 341,
   "metadata": {},
   "outputs": [],
   "source": [
    "new_output = []\n",
    "new_y = []\n",
    "for i in range(len(outputs)):\n",
    "    new_output.append(outputs[i].detach().numpy().squeeze())\n",
    "    new_y.append(ys[i].numpy().squeeze())\n",
    "\n",
    "new_output = np.array(new_output).reshape(-1)\n",
    "new_y = np.array(new_y).reshape(-1)"
   ]
  },
  {
   "cell_type": "code",
   "execution_count": 109,
   "metadata": {},
   "outputs": [
    {
     "data": {
      "text/plain": [
       "array([0.4990589 , 1.3714486 , 1.4239254 , ..., 1.3714486 , 1.4239255 ,\n",
       "       0.38636714], dtype=float32)"
      ]
     },
     "execution_count": 109,
     "metadata": {},
     "output_type": "execute_result"
    }
   ],
   "source": []
  },
  {
   "cell_type": "code",
   "execution_count": 342,
   "metadata": {},
   "outputs": [],
   "source": [
    "temp = pd.DataFrame(index = range(0,len(new_output)),data = {'output' : new_output, 'y' : new_y})\n",
    "temp = temp.reset_index()"
   ]
  },
  {
   "cell_type": "code",
   "execution_count": 343,
   "metadata": {},
   "outputs": [],
   "source": [
    "temp['diff'] = temp['y'] - temp['output']\n",
    "temp['diff_abs'] = abs(temp['diff'])"
   ]
  },
  {
   "cell_type": "markdown",
   "metadata": {},
   "source": [
    "## test결과에서 loss 크기 그래프"
   ]
  },
  {
   "cell_type": "code",
   "execution_count": 344,
   "metadata": {},
   "outputs": [
    {
     "data": {
      "text/plain": [
       "<matplotlib.axes._subplots.AxesSubplot at 0x24d39836548>"
      ]
     },
     "execution_count": 344,
     "metadata": {},
     "output_type": "execute_result"
    },
    {
     "data": {
      "image/png": "[encoded data removed]",
      "text/plain": [
       "<Figure size 432x288 with 1 Axes>"
      ]
     },
     "metadata": {
      "needs_background": "light"
     },
     "output_type": "display_data"
    }
   ],
   "source": [
    "import seaborn as sns\n",
    "sns.lineplot(data = temp,x = \"index\", y = 'diff_abs')"
   ]
  },
  {
   "cell_type": "code",
   "execution_count": 24,
   "metadata": {},
   "outputs": [
    {
     "data": {
      "text/plain": [
       "0.26808493748012124"
      ]
     },
     "execution_count": 24,
     "metadata": {},
     "output_type": "execute_result"
    }
   ],
   "source": [
    "temp['diff_abs'].median()\n",
    "#337.676072 * 0.27"
   ]
  },
  {
   "cell_type": "markdown",
   "metadata": {},
   "source": [
    "## MSE계산"
   ]
  },
  {
   "cell_type": "code",
   "execution_count": 30,
   "metadata": {},
   "outputs": [
    {
     "data": {
      "text/plain": [
       "405726.62758988887"
      ]
     },
     "execution_count": 30,
     "metadata": {},
     "output_type": "execute_result"
    }
   ],
   "source": [
    "from sklearn.metrics import mean_squared_error\n",
    "ans = temp.loc[:len(data.loc[32477:])-1,'output'] *(data.loc[32477:,'pastBuyer_count_mean'].reset_index(drop = True))\n",
    "mean_squared_error(test_y, ans )"
   ]
  },
  {
   "cell_type": "markdown",
   "metadata": {},
   "source": [
    "448520.7540157402"
   ]
  },
  {
   "cell_type": "code",
   "execution_count": 345,
   "metadata": {},
   "outputs": [],
   "source": [
    "past_buyer = data.loc[data.type == 'test','pastBuyer_count_mean_org']\n",
    "ans =  (new_output[:len(past_buyer)] * past_buyer).reset_index(drop = True)"
   ]
  },
  {
   "cell_type": "code",
   "execution_count": 346,
   "metadata": {},
   "outputs": [],
   "source": [
    "ans.to_csv(\"ans_without_mu.csv\")"
   ]
  }
 ],
 "metadata": {
  "kernelspec": {
   "display_name": "Python 3",
   "language": "python",
   "name": "python3"
  },
  "language_info": {
   "codemirror_mode": {
    "name": "ipython",
    "version": 3
   },
   "file_extension": ".py",
   "mimetype": "text/x-python",
   "name": "python",
   "nbconvert_exporter": "python",
   "pygments_lexer": "ipython3",
   "version": "3.7.3"
  }
 },
 "nbformat": 4,
 "nbformat_minor": 4
}
