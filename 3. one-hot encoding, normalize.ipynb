{
 "cells": [
  {
   "cell_type": "markdown",
   "metadata": {},
   "source": [
    "# 3. ohe hot encoding, normalize\n",
    "- 카테고리 변수는 one hot encoding\n",
    "- 연속형 변수는 normalize"
   ]
  },
  {
   "cell_type": "code",
   "execution_count": 24,
   "metadata": {},
   "outputs": [],
   "source": [
    "import pandas as pd\n",
    "import seaborn as sns"
   ]
  },
  {
   "cell_type": "code",
   "execution_count": 42,
   "metadata": {},
   "outputs": [
    {
     "data": {
      "text/html": [
       "<div>\n",
       "<style scoped>\n",
       "    .dataframe tbody tr th:only-of-type {\n",
       "        vertical-align: middle;\n",
       "    }\n",
       "\n",
       "    .dataframe tbody tr th {\n",
       "        vertical-align: top;\n",
       "    }\n",
       "\n",
       "    .dataframe thead th {\n",
       "        text-align: right;\n",
       "    }\n",
       "</style>\n",
       "<table border=\"1\" class=\"dataframe\">\n",
       "  <thead>\n",
       "    <tr style=\"text-align: right;\">\n",
       "      <th></th>\n",
       "      <th>broadcast_time</th>\n",
       "      <th>product_category</th>\n",
       "      <th>unit_price</th>\n",
       "      <th>off_day</th>\n",
       "      <th>time</th>\n",
       "      <th>weekday</th>\n",
       "      <th>hour</th>\n",
       "      <th>temperature_seoul</th>\n",
       "      <th>rain_seoul</th>\n",
       "      <th>humid_seoul</th>\n",
       "      <th>...</th>\n",
       "      <th>season</th>\n",
       "      <th>day_dup</th>\n",
       "      <th>week_dup</th>\n",
       "      <th>working_time</th>\n",
       "      <th>buy_count</th>\n",
       "      <th>pastBuyer_count_mean</th>\n",
       "      <th>unit_price_class</th>\n",
       "      <th>type</th>\n",
       "      <th>diff</th>\n",
       "      <th>watching_level_rain_hour_max_Clusters_8</th>\n",
       "    </tr>\n",
       "  </thead>\n",
       "  <tbody>\n",
       "    <tr>\n",
       "      <th>0</th>\n",
       "      <td>20.000000</td>\n",
       "      <td>의류</td>\n",
       "      <td>39900</td>\n",
       "      <td>True</td>\n",
       "      <td>06:00:00</td>\n",
       "      <td>1</td>\n",
       "      <td>6</td>\n",
       "      <td>-7.9</td>\n",
       "      <td>0.0</td>\n",
       "      <td>60.0</td>\n",
       "      <td>...</td>\n",
       "      <td>1</td>\n",
       "      <td>1.0</td>\n",
       "      <td>1.0</td>\n",
       "      <td>False</td>\n",
       "      <td>52.606516</td>\n",
       "      <td>384.962870</td>\n",
       "      <td>3.0</td>\n",
       "      <td>train</td>\n",
       "      <td>0.136653</td>\n",
       "      <td>6</td>\n",
       "    </tr>\n",
       "    <tr>\n",
       "      <th>1</th>\n",
       "      <td>20.000000</td>\n",
       "      <td>의류</td>\n",
       "      <td>39900</td>\n",
       "      <td>True</td>\n",
       "      <td>06:00:00</td>\n",
       "      <td>1</td>\n",
       "      <td>6</td>\n",
       "      <td>-7.9</td>\n",
       "      <td>0.0</td>\n",
       "      <td>60.0</td>\n",
       "      <td>...</td>\n",
       "      <td>1</td>\n",
       "      <td>1.0</td>\n",
       "      <td>1.0</td>\n",
       "      <td>False</td>\n",
       "      <td>109.548872</td>\n",
       "      <td>384.962870</td>\n",
       "      <td>3.0</td>\n",
       "      <td>train</td>\n",
       "      <td>0.284570</td>\n",
       "      <td>6</td>\n",
       "    </tr>\n",
       "    <tr>\n",
       "      <th>2</th>\n",
       "      <td>20.000000</td>\n",
       "      <td>의류</td>\n",
       "      <td>39900</td>\n",
       "      <td>True</td>\n",
       "      <td>06:20:00</td>\n",
       "      <td>1</td>\n",
       "      <td>6</td>\n",
       "      <td>-7.9</td>\n",
       "      <td>0.0</td>\n",
       "      <td>60.0</td>\n",
       "      <td>...</td>\n",
       "      <td>1</td>\n",
       "      <td>2.0</td>\n",
       "      <td>2.0</td>\n",
       "      <td>False</td>\n",
       "      <td>174.310777</td>\n",
       "      <td>109.548872</td>\n",
       "      <td>3.0</td>\n",
       "      <td>train</td>\n",
       "      <td>1.591169</td>\n",
       "      <td>6</td>\n",
       "    </tr>\n",
       "    <tr>\n",
       "      <th>3</th>\n",
       "      <td>20.000000</td>\n",
       "      <td>의류</td>\n",
       "      <td>39900</td>\n",
       "      <td>True</td>\n",
       "      <td>06:20:00</td>\n",
       "      <td>1</td>\n",
       "      <td>6</td>\n",
       "      <td>-7.9</td>\n",
       "      <td>0.0</td>\n",
       "      <td>60.0</td>\n",
       "      <td>...</td>\n",
       "      <td>1</td>\n",
       "      <td>2.0</td>\n",
       "      <td>2.0</td>\n",
       "      <td>False</td>\n",
       "      <td>81.754386</td>\n",
       "      <td>52.606516</td>\n",
       "      <td>3.0</td>\n",
       "      <td>train</td>\n",
       "      <td>1.554073</td>\n",
       "      <td>6</td>\n",
       "    </tr>\n",
       "    <tr>\n",
       "      <th>4</th>\n",
       "      <td>20.000000</td>\n",
       "      <td>의류</td>\n",
       "      <td>39900</td>\n",
       "      <td>True</td>\n",
       "      <td>06:40:00</td>\n",
       "      <td>1</td>\n",
       "      <td>6</td>\n",
       "      <td>-7.9</td>\n",
       "      <td>0.0</td>\n",
       "      <td>60.0</td>\n",
       "      <td>...</td>\n",
       "      <td>1</td>\n",
       "      <td>3.0</td>\n",
       "      <td>3.0</td>\n",
       "      <td>False</td>\n",
       "      <td>234.010025</td>\n",
       "      <td>141.929825</td>\n",
       "      <td>3.0</td>\n",
       "      <td>train</td>\n",
       "      <td>1.648773</td>\n",
       "      <td>6</td>\n",
       "    </tr>\n",
       "    <tr>\n",
       "      <th>...</th>\n",
       "      <td>...</td>\n",
       "      <td>...</td>\n",
       "      <td>...</td>\n",
       "      <td>...</td>\n",
       "      <td>...</td>\n",
       "      <td>...</td>\n",
       "      <td>...</td>\n",
       "      <td>...</td>\n",
       "      <td>...</td>\n",
       "      <td>...</td>\n",
       "      <td>...</td>\n",
       "      <td>...</td>\n",
       "      <td>...</td>\n",
       "      <td>...</td>\n",
       "      <td>...</td>\n",
       "      <td>...</td>\n",
       "      <td>...</td>\n",
       "      <td>...</td>\n",
       "      <td>...</td>\n",
       "      <td>...</td>\n",
       "      <td>...</td>\n",
       "    </tr>\n",
       "    <tr>\n",
       "      <th>38086</th>\n",
       "      <td>10.000000</td>\n",
       "      <td>속옷</td>\n",
       "      <td>119000</td>\n",
       "      <td>False</td>\n",
       "      <td>00:10:00</td>\n",
       "      <td>2</td>\n",
       "      <td>0</td>\n",
       "      <td>18.8</td>\n",
       "      <td>0.0</td>\n",
       "      <td>85.0</td>\n",
       "      <td>...</td>\n",
       "      <td>3</td>\n",
       "      <td>6.0</td>\n",
       "      <td>6.0</td>\n",
       "      <td>False</td>\n",
       "      <td>NaN</td>\n",
       "      <td>364.460034</td>\n",
       "      <td>14.0</td>\n",
       "      <td>test</td>\n",
       "      <td>NaN</td>\n",
       "      <td>6</td>\n",
       "    </tr>\n",
       "    <tr>\n",
       "      <th>38087</th>\n",
       "      <td>10.000000</td>\n",
       "      <td>속옷</td>\n",
       "      <td>99000</td>\n",
       "      <td>False</td>\n",
       "      <td>00:10:00</td>\n",
       "      <td>2</td>\n",
       "      <td>0</td>\n",
       "      <td>18.8</td>\n",
       "      <td>0.0</td>\n",
       "      <td>85.0</td>\n",
       "      <td>...</td>\n",
       "      <td>3</td>\n",
       "      <td>6.0</td>\n",
       "      <td>6.0</td>\n",
       "      <td>False</td>\n",
       "      <td>NaN</td>\n",
       "      <td>364.460034</td>\n",
       "      <td>13.0</td>\n",
       "      <td>test</td>\n",
       "      <td>NaN</td>\n",
       "      <td>6</td>\n",
       "    </tr>\n",
       "    <tr>\n",
       "      <th>38088</th>\n",
       "      <td>10.000000</td>\n",
       "      <td>속옷</td>\n",
       "      <td>119000</td>\n",
       "      <td>False</td>\n",
       "      <td>00:10:00</td>\n",
       "      <td>2</td>\n",
       "      <td>0</td>\n",
       "      <td>18.8</td>\n",
       "      <td>0.0</td>\n",
       "      <td>85.0</td>\n",
       "      <td>...</td>\n",
       "      <td>3</td>\n",
       "      <td>6.0</td>\n",
       "      <td>6.0</td>\n",
       "      <td>False</td>\n",
       "      <td>NaN</td>\n",
       "      <td>364.460034</td>\n",
       "      <td>14.0</td>\n",
       "      <td>test</td>\n",
       "      <td>NaN</td>\n",
       "      <td>6</td>\n",
       "    </tr>\n",
       "    <tr>\n",
       "      <th>38089</th>\n",
       "      <td>20.000000</td>\n",
       "      <td>의류</td>\n",
       "      <td>69900</td>\n",
       "      <td>False</td>\n",
       "      <td>01:20:00</td>\n",
       "      <td>2</td>\n",
       "      <td>1</td>\n",
       "      <td>18.8</td>\n",
       "      <td>0.0</td>\n",
       "      <td>87.0</td>\n",
       "      <td>...</td>\n",
       "      <td>3</td>\n",
       "      <td>1.0</td>\n",
       "      <td>1.0</td>\n",
       "      <td>False</td>\n",
       "      <td>NaN</td>\n",
       "      <td>384.962870</td>\n",
       "      <td>10.0</td>\n",
       "      <td>test</td>\n",
       "      <td>NaN</td>\n",
       "      <td>6</td>\n",
       "    </tr>\n",
       "    <tr>\n",
       "      <th>38090</th>\n",
       "      <td>15.933333</td>\n",
       "      <td>의류</td>\n",
       "      <td>69900</td>\n",
       "      <td>False</td>\n",
       "      <td>01:40:00</td>\n",
       "      <td>2</td>\n",
       "      <td>1</td>\n",
       "      <td>18.8</td>\n",
       "      <td>0.0</td>\n",
       "      <td>87.0</td>\n",
       "      <td>...</td>\n",
       "      <td>3</td>\n",
       "      <td>2.0</td>\n",
       "      <td>2.0</td>\n",
       "      <td>False</td>\n",
       "      <td>NaN</td>\n",
       "      <td>384.962870</td>\n",
       "      <td>10.0</td>\n",
       "      <td>test</td>\n",
       "      <td>NaN</td>\n",
       "      <td>6</td>\n",
       "    </tr>\n",
       "  </tbody>\n",
       "</table>\n",
       "<p>38091 rows × 27 columns</p>\n",
       "</div>"
      ],
      "text/plain": [
       "       broadcast_time product_category  unit_price  off_day      time  \\\n",
       "0           20.000000               의류       39900     True  06:00:00   \n",
       "1           20.000000               의류       39900     True  06:00:00   \n",
       "2           20.000000               의류       39900     True  06:20:00   \n",
       "3           20.000000               의류       39900     True  06:20:00   \n",
       "4           20.000000               의류       39900     True  06:40:00   \n",
       "...               ...              ...         ...      ...       ...   \n",
       "38086       10.000000               속옷      119000    False  00:10:00   \n",
       "38087       10.000000               속옷       99000    False  00:10:00   \n",
       "38088       10.000000               속옷      119000    False  00:10:00   \n",
       "38089       20.000000               의류       69900    False  01:20:00   \n",
       "38090       15.933333               의류       69900    False  01:40:00   \n",
       "\n",
       "       weekday  hour  temperature_seoul  rain_seoul  humid_seoul  ...  season  \\\n",
       "0            1     6               -7.9         0.0         60.0  ...       1   \n",
       "1            1     6               -7.9         0.0         60.0  ...       1   \n",
       "2            1     6               -7.9         0.0         60.0  ...       1   \n",
       "3            1     6               -7.9         0.0         60.0  ...       1   \n",
       "4            1     6               -7.9         0.0         60.0  ...       1   \n",
       "...        ...   ...                ...         ...          ...  ...     ...   \n",
       "38086        2     0               18.8         0.0         85.0  ...       3   \n",
       "38087        2     0               18.8         0.0         85.0  ...       3   \n",
       "38088        2     0               18.8         0.0         85.0  ...       3   \n",
       "38089        2     1               18.8         0.0         87.0  ...       3   \n",
       "38090        2     1               18.8         0.0         87.0  ...       3   \n",
       "\n",
       "       day_dup  week_dup  working_time   buy_count  pastBuyer_count_mean  \\\n",
       "0          1.0       1.0         False   52.606516            384.962870   \n",
       "1          1.0       1.0         False  109.548872            384.962870   \n",
       "2          2.0       2.0         False  174.310777            109.548872   \n",
       "3          2.0       2.0         False   81.754386             52.606516   \n",
       "4          3.0       3.0         False  234.010025            141.929825   \n",
       "...        ...       ...           ...         ...                   ...   \n",
       "38086      6.0       6.0         False         NaN            364.460034   \n",
       "38087      6.0       6.0         False         NaN            364.460034   \n",
       "38088      6.0       6.0         False         NaN            364.460034   \n",
       "38089      1.0       1.0         False         NaN            384.962870   \n",
       "38090      2.0       2.0         False         NaN            384.962870   \n",
       "\n",
       "       unit_price_class   type      diff  \\\n",
       "0                   3.0  train  0.136653   \n",
       "1                   3.0  train  0.284570   \n",
       "2                   3.0  train  1.591169   \n",
       "3                   3.0  train  1.554073   \n",
       "4                   3.0  train  1.648773   \n",
       "...                 ...    ...       ...   \n",
       "38086              14.0   test       NaN   \n",
       "38087              13.0   test       NaN   \n",
       "38088              14.0   test       NaN   \n",
       "38089              10.0   test       NaN   \n",
       "38090              10.0   test       NaN   \n",
       "\n",
       "       watching_level_rain_hour_max_Clusters_8  \n",
       "0                                            6  \n",
       "1                                            6  \n",
       "2                                            6  \n",
       "3                                            6  \n",
       "4                                            6  \n",
       "...                                        ...  \n",
       "38086                                        6  \n",
       "38087                                        6  \n",
       "38088                                        6  \n",
       "38089                                        6  \n",
       "38090                                        6  \n",
       "\n",
       "[38091 rows x 27 columns]"
      ]
     },
     "execution_count": 42,
     "metadata": {},
     "output_type": "execute_result"
    }
   ],
   "source": [
    "# data = pd.read_csv('data/train_set/2.8_1unit_price_to_class', header = 0)\n",
    "# data = pd.read_csv('temp2_imputation_after.csv', header =0, index_col =0 )\n",
    "data = pd.read_csv('train_test_watching2.csv', header =0)\n",
    "data = data.drop(columns =['Unnamed: 0.1.1','Unnamed: 0.1','Unnamed: 0','watching_level_rain_hour_max','watching_level_product_hour_max'])\n",
    "data"
   ]
  },
  {
   "cell_type": "code",
   "execution_count": 43,
   "metadata": {},
   "outputs": [],
   "source": [
    "data['pastBuyer_count_mean_org'] = data['pastBuyer_count_mean']"
   ]
  },
  {
   "cell_type": "code",
   "execution_count": 44,
   "metadata": {},
   "outputs": [
    {
     "data": {
      "text/plain": [
       "Index(['broadcast_time', 'product_category', 'unit_price', 'off_day', 'time',\n",
       "       'weekday', 'hour', 'temperature_seoul', 'rain_seoul', 'humid_seoul',\n",
       "       'snow_seoul', 'temperature_busan', 'rain_busan', 'humid_busan',\n",
       "       'snow_busan', 'pmWarning_seoul', 'pmWarning_busan', 'season', 'day_dup',\n",
       "       'week_dup', 'working_time', 'buy_count', 'pastBuyer_count_mean',\n",
       "       'unit_price_class', 'type', 'diff',\n",
       "       'watching_level_rain_hour_max_Clusters_8', 'pastBuyer_count_mean_org'],\n",
       "      dtype='object')"
      ]
     },
     "execution_count": 44,
     "metadata": {},
     "output_type": "execute_result"
    }
   ],
   "source": [
    "data.columns"
   ]
  },
  {
   "cell_type": "markdown",
   "metadata": {},
   "source": [
    "## 1. 사용할 데이터만 가져오기"
   ]
  },
  {
   "cell_type": "code",
   "execution_count": 45,
   "metadata": {},
   "outputs": [
    {
     "data": {
      "text/plain": [
       "Index(['broadcast_time', 'product_category', 'unit_price', 'off_day', 'time',\n",
       "       'weekday', 'hour', 'temperature_seoul', 'rain_seoul', 'humid_seoul',\n",
       "       'snow_seoul', 'temperature_busan', 'rain_busan', 'humid_busan',\n",
       "       'snow_busan', 'pmWarning_seoul', 'pmWarning_busan', 'season', 'day_dup',\n",
       "       'week_dup', 'working_time', 'buy_count', 'pastBuyer_count_mean',\n",
       "       'unit_price_class', 'type', 'diff',\n",
       "       'watching_level_rain_hour_max_Clusters_8', 'pastBuyer_count_mean_org'],\n",
       "      dtype='object')"
      ]
     },
     "execution_count": 45,
     "metadata": {},
     "output_type": "execute_result"
    }
   ],
   "source": [
    "data.columns"
   ]
  },
  {
   "cell_type": "code",
   "execution_count": 52,
   "metadata": {},
   "outputs": [],
   "source": [
    "data_use = data[['broadcast_time', 'product_category', 'unit_price', 'off_day',\n",
    "       'weekday', 'hour', 'temperature_seoul', 'rain_seoul', 'humid_seoul',\n",
    "       'snow_seoul', 'temperature_busan', 'rain_busan', 'humid_busan',\n",
    "       'snow_busan', 'pmWarning_seoul', 'pmWarning_busan', 'season', 'day_dup',\n",
    "       'week_dup', 'working_time', 'buy_count', 'watching_level_rain_hour_max_Clusters_8','pastBuyer_count_mean','pastBuyer_count_mean_org',\n",
    "       'unit_price_class', 'type', 'diff']]\n",
    "data_use = data_use.copy()"
   ]
  },
  {
   "cell_type": "markdown",
   "metadata": {},
   "source": [
    "## 3. Outlier 제거\n",
    "- 구매자 수가 상위 5%인 경우를 삭제"
   ]
  },
  {
   "cell_type": "code",
   "execution_count": 53,
   "metadata": {},
   "outputs": [
    {
     "data": {
      "text/plain": [
       "<matplotlib.axes._subplots.AxesSubplot at 0x24fa8c96dc8>"
      ]
     },
     "execution_count": 53,
     "metadata": {},
     "output_type": "execute_result"
    },
    {
     "data": {
      "image/png": "[encoded data removed]",
      "text/plain": [
       "<Figure size 432x288 with 1 Axes>"
      ]
     },
     "metadata": {
      "needs_background": "light"
     },
     "output_type": "display_data"
    }
   ],
   "source": [
    "sns.boxplot(data_use['buy_count'])"
   ]
  },
  {
   "cell_type": "code",
   "execution_count": 54,
   "metadata": {},
   "outputs": [],
   "source": [
    "train_len = int(len(data_use['buy_count'].dropna()))\n",
    "outlier = data_use.sort_values(\"buy_count\",ascending= False).index[:int(train_len*0.05)]"
   ]
  },
  {
   "cell_type": "code",
   "execution_count": 55,
   "metadata": {},
   "outputs": [],
   "source": [
    "data_use = data_use.drop(index = outlier).reset_index(drop = True)"
   ]
  },
  {
   "cell_type": "code",
   "execution_count": 56,
   "metadata": {},
   "outputs": [
    {
     "data": {
      "text/plain": [
       "<matplotlib.axes._subplots.AxesSubplot at 0x24fa8d0b308>"
      ]
     },
     "execution_count": 56,
     "metadata": {},
     "output_type": "execute_result"
    },
    {
     "data": {
      "image/png": "[encoded data removed]",
      "text/plain": [
       "<Figure size 432x288 with 1 Axes>"
      ]
     },
     "metadata": {
      "needs_background": "light"
     },
     "output_type": "display_data"
    }
   ],
   "source": [
    "sns.boxplot(data_use['buy_count'])"
   ]
  },
  {
   "cell_type": "markdown",
   "metadata": {},
   "source": [
    "## 2. 데이터의 종류\n",
    "       \n",
    "#### 정규화를 해야할 것 : 'broadcast_time', 'unit_price','rain_seoul', 'humid_seoul', 'snow_seoul', 'temperature_busan', 'rain_busan', 'humid_busan', 'snow_busan','hour','temperature_seoul','day_dup', 'week_dup','max_watching','avg_watching', \n",
    "\n",
    "#### 1 of c : 'product_category', 'weekday','season',\n",
    "\n",
    "#### 그대로 사용 : 'off_day','pmWarning_seoul', 'pmWarning_busan', 'working_time', \n",
    "\n",
    "#### 정답데이터 :  'pastAvg_diff','handling_amount'"
   ]
  },
  {
   "cell_type": "markdown",
   "metadata": {},
   "source": [
    "#### standard_scalar_list"
   ]
  },
  {
   "cell_type": "code",
   "execution_count": 57,
   "metadata": {},
   "outputs": [
    {
     "data": {
      "text/plain": [
       "broadcast_time                              -0.102143\n",
       "product_category                                   의류\n",
       "unit_price                                      39900\n",
       "off_day                                          True\n",
       "weekday                                             1\n",
       "hour                                         -1.21662\n",
       "temperature_seoul                            -2.18225\n",
       "rain_seoul                                  -0.129511\n",
       "humid_seoul                                  0.209723\n",
       "snow_seoul                                 -0.0613154\n",
       "temperature_busan                             -2.3818\n",
       "rain_busan                                  -0.158121\n",
       "humid_busan                                 -0.908881\n",
       "snow_busan                                -0.00908841\n",
       "pmWarning_seoul                                 False\n",
       "pmWarning_busan                                 False\n",
       "season                                              1\n",
       "day_dup                                     -0.971589\n",
       "week_dup                                     -1.21392\n",
       "working_time                                    False\n",
       "buy_count                                     109.549\n",
       "watching_level_rain_hour_max_Clusters_8             6\n",
       "pastBuyer_count_mean                         0.333538\n",
       "pastBuyer_count_mean_org                      384.963\n",
       "unit_price_class                              -1.4358\n",
       "type                                            train\n",
       "diff                                          0.28457\n",
       "Name: 1, dtype: object"
      ]
     },
     "execution_count": 57,
     "metadata": {},
     "output_type": "execute_result"
    }
   ],
   "source": [
    "from sklearn.preprocessing import StandardScaler\n",
    "StandardScaler = StandardScaler()\n",
    "\n",
    "scalar_list = [ 'broadcast_time', 'unit_price_class','rain_seoul',\n",
    "                        'humid_seoul', 'snow_seoul', 'temperature_busan',\n",
    "                        'rain_busan', 'humid_busan', 'snow_busan','hour',\n",
    "                        'temperature_seoul','day_dup', 'week_dup','pastBuyer_count_mean']\n",
    "\n",
    "data_use_fit.loc[:,scalar_list] = StandardScaler.fit_transform(pd.DataFrame(data_use.loc[:,scalar_list]))\n",
    "data_use_fit.loc[1]"
   ]
  },
  {
   "cell_type": "code",
   "execution_count": 58,
   "metadata": {},
   "outputs": [
    {
     "data": {
      "text/plain": [
       "<matplotlib.axes._subplots.AxesSubplot at 0x24fa4325b48>"
      ]
     },
     "execution_count": 58,
     "metadata": {},
     "output_type": "execute_result"
    },
    {
     "data": {
      "image/png": "[encoded data removed]",
      "text/plain": [
       "<Figure size 432x288 with 1 Axes>"
      ]
     },
     "metadata": {
      "needs_background": "light"
     },
     "output_type": "display_data"
    }
   ],
   "source": [
    "sns.distplot(data_use_fit['pastBuyer_count_mean'])"
   ]
  },
  {
   "cell_type": "markdown",
   "metadata": {},
   "source": [
    "## 더미코딩"
   ]
  },
  {
   "cell_type": "code",
   "execution_count": 60,
   "metadata": {},
   "outputs": [
    {
     "data": {
      "text/plain": [
       "Index(['broadcast_time', 'unit_price', 'off_day', 'hour', 'temperature_seoul',\n",
       "       'rain_seoul', 'humid_seoul', 'snow_seoul', 'temperature_busan',\n",
       "       'rain_busan', 'humid_busan', 'snow_busan', 'pmWarning_seoul',\n",
       "       'pmWarning_busan', 'day_dup', 'week_dup', 'working_time', 'buy_count',\n",
       "       'pastBuyer_count_mean', 'pastBuyer_count_mean_org', 'unit_price_class',\n",
       "       'type', 'diff', 'watching_level', 'product_category_가전',\n",
       "       'product_category_건강기능', 'product_category_농수축',\n",
       "       'product_category_생활용품', 'product_category_속옷', 'product_category_의류',\n",
       "       'product_category_이미용', 'product_category_잡화', 'product_category_주방',\n",
       "       'product_category_침구', 'weekday_1', 'weekday_2', 'weekday_3',\n",
       "       'weekday_4', 'weekday_5', 'weekday_6', 'season_2', 'season_3',\n",
       "       'season_4', 'watching_level_rain_hour_max_Clusters_8_1',\n",
       "       'watching_level_rain_hour_max_Clusters_8_3',\n",
       "       'watching_level_rain_hour_max_Clusters_8_5',\n",
       "       'watching_level_rain_hour_max_Clusters_8_6',\n",
       "       'watching_level_rain_hour_max_Clusters_8_7'],\n",
       "      dtype='object')"
      ]
     },
     "execution_count": 60,
     "metadata": {},
     "output_type": "execute_result"
    }
   ],
   "source": [
    "# 변수 type변환\n",
    "data_use_fit['product_category'] = list(map(str,data_use_fit['product_category']))\n",
    "data_use_fit['weekday'] = list(map(str,data_use_fit['weekday']))\n",
    "data_use_fit['season'] = list(map(str,data_use_fit['season']))\n",
    "data_use_fit['watching_level'] = list(map(str,data_use_fit['watching_level_rain_hour_max_Clusters_8']))\n",
    "data_use_fit = pd.get_dummies(data_use_fit, drop_first=True, columns = ['product_category', 'weekday','season','watching_level_rain_hour_max_Clusters_8'])\n",
    "\n",
    "data_use_fit.columns"
   ]
  },
  {
   "cell_type": "code",
   "execution_count": 61,
   "metadata": {},
   "outputs": [],
   "source": [
    "data_use_fit.to_csv('data/train_set/3.data_normalize2.csv', index = False)"
   ]
  }
 ],
 "metadata": {
  "kernelspec": {
   "display_name": "Python 3",
   "language": "python",
   "name": "python3"
  },
  "language_info": {
   "codemirror_mode": {
    "name": "ipython",
    "version": 3
   },
   "file_extension": ".py",
   "mimetype": "text/x-python",
   "name": "python",
   "nbconvert_exporter": "python",
   "pygments_lexer": "ipython3",
   "version": "3.7.7"
  }
 },
 "nbformat": 4,
 "nbformat_minor": 4
}
